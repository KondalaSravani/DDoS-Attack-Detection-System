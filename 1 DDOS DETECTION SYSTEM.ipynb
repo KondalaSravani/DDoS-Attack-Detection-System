{
 "cells": [
  {
   "cell_type": "markdown",
   "metadata": {},
   "source": [
    "# DDOS DETECTION SYSTEM\n",
    "\n",
    "- Dataset [https://www.kaggle.com/jacobvs/ddos-attack-network-logs?select=final-dataset.arff]\n",
    "\n",
    "- \n"
   ]
  },
  {
   "cell_type": "markdown",
   "metadata": {},
   "source": [
    "## Importing Required Modules"
   ]
  },
  {
   "cell_type": "code",
   "execution_count": 1,
   "metadata": {},
   "outputs": [],
   "source": [
    "import pandas as pd\n",
    "import matplotlib.pyplot as plt\n",
    "import numpy as np\n",
    "from sklearn.model_selection import train_test_split\n",
    "from sklearn.svm import SVC\n",
    "from sklearn.metrics import accuracy_score,confusion_matrix"
   ]
  },
  {
   "cell_type": "markdown",
   "metadata": {},
   "source": [
    "## Loading the dataset"
   ]
  },
  {
   "cell_type": "code",
   "execution_count": 2,
   "metadata": {},
   "outputs": [
    {
     "name": "stderr",
     "output_type": "stream",
     "text": [
      "C:\\Users\\sravani\\anaconda3\\lib\\site-packages\\IPython\\core\\interactiveshell.py:3071: DtypeWarning: Columns (18) have mixed types.Specify dtype option on import or set low_memory=False.\n",
      "  has_raised = await self.run_ast_nodes(code_ast.body, cell_name,\n"
     ]
    },
    {
     "data": {
      "text/html": [
       "<div>\n",
       "<style scoped>\n",
       "    .dataframe tbody tr th:only-of-type {\n",
       "        vertical-align: middle;\n",
       "    }\n",
       "\n",
       "    .dataframe tbody tr th {\n",
       "        vertical-align: top;\n",
       "    }\n",
       "\n",
       "    .dataframe thead th {\n",
       "        text-align: right;\n",
       "    }\n",
       "</style>\n",
       "<table border=\"1\" class=\"dataframe\">\n",
       "  <thead>\n",
       "    <tr style=\"text-align: right;\">\n",
       "      <th></th>\n",
       "      <th>SRC_ADD</th>\n",
       "      <th>DES_ADD</th>\n",
       "      <th>PKT_ID</th>\n",
       "      <th>FROM_NODE</th>\n",
       "      <th>TO_NODE</th>\n",
       "      <th>PKT_TYPE</th>\n",
       "      <th>PKT_SIZE</th>\n",
       "      <th>FLAGS</th>\n",
       "      <th>FID</th>\n",
       "      <th>SEQ_NUMBER</th>\n",
       "      <th>...</th>\n",
       "      <th>PKT_RATE</th>\n",
       "      <th>BYTE_RATE</th>\n",
       "      <th>PKT_AVG_SIZE</th>\n",
       "      <th>UTILIZATION</th>\n",
       "      <th>PKT_DELAY</th>\n",
       "      <th>PKT_SEND_TIME</th>\n",
       "      <th>PKT_RESEVED_TIME</th>\n",
       "      <th>FIRST_PKT_SENT</th>\n",
       "      <th>LAST_PKT_RESEVED</th>\n",
       "      <th>PKT_CLASS</th>\n",
       "    </tr>\n",
       "  </thead>\n",
       "  <tbody>\n",
       "    <tr>\n",
       "      <th>0</th>\n",
       "      <td>3.00</td>\n",
       "      <td>24.30</td>\n",
       "      <td>389693</td>\n",
       "      <td>21</td>\n",
       "      <td>23</td>\n",
       "      <td>tcp</td>\n",
       "      <td>1540</td>\n",
       "      <td>-------</td>\n",
       "      <td>4</td>\n",
       "      <td>11339</td>\n",
       "      <td>...</td>\n",
       "      <td>328.241</td>\n",
       "      <td>505490.0</td>\n",
       "      <td>1540.0</td>\n",
       "      <td>0.236321</td>\n",
       "      <td>0.0</td>\n",
       "      <td>35.519662</td>\n",
       "      <td>35.550032</td>\n",
       "      <td>1.000000</td>\n",
       "      <td>50.021920</td>\n",
       "      <td>Normal</td>\n",
       "    </tr>\n",
       "    <tr>\n",
       "      <th>1</th>\n",
       "      <td>15.00</td>\n",
       "      <td>24.15</td>\n",
       "      <td>201196</td>\n",
       "      <td>23</td>\n",
       "      <td>24</td>\n",
       "      <td>tcp</td>\n",
       "      <td>1540</td>\n",
       "      <td>-------</td>\n",
       "      <td>16</td>\n",
       "      <td>6274</td>\n",
       "      <td>...</td>\n",
       "      <td>328.206</td>\n",
       "      <td>505437.0</td>\n",
       "      <td>1540.0</td>\n",
       "      <td>0.236337</td>\n",
       "      <td>0.0</td>\n",
       "      <td>20.156478</td>\n",
       "      <td>20.186848</td>\n",
       "      <td>1.000000</td>\n",
       "      <td>50.030211</td>\n",
       "      <td>Normal</td>\n",
       "    </tr>\n",
       "    <tr>\n",
       "      <th>2</th>\n",
       "      <td>24.15</td>\n",
       "      <td>15.00</td>\n",
       "      <td>61905</td>\n",
       "      <td>23</td>\n",
       "      <td>22</td>\n",
       "      <td>ack</td>\n",
       "      <td>55</td>\n",
       "      <td>-------</td>\n",
       "      <td>16</td>\n",
       "      <td>1930</td>\n",
       "      <td>...</td>\n",
       "      <td>328.206</td>\n",
       "      <td>18051.3</td>\n",
       "      <td>55.0</td>\n",
       "      <td>0.008441</td>\n",
       "      <td>0.0</td>\n",
       "      <td>7.039952</td>\n",
       "      <td>7.069962</td>\n",
       "      <td>1.030045</td>\n",
       "      <td>50.060221</td>\n",
       "      <td>UDP-Flood</td>\n",
       "    </tr>\n",
       "    <tr>\n",
       "      <th>3</th>\n",
       "      <td>24.90</td>\n",
       "      <td>9.00</td>\n",
       "      <td>443135</td>\n",
       "      <td>23</td>\n",
       "      <td>21</td>\n",
       "      <td>ack</td>\n",
       "      <td>55</td>\n",
       "      <td>-------</td>\n",
       "      <td>10</td>\n",
       "      <td>12670</td>\n",
       "      <td>...</td>\n",
       "      <td>328.064</td>\n",
       "      <td>18043.5</td>\n",
       "      <td>55.0</td>\n",
       "      <td>0.008437</td>\n",
       "      <td>0.0</td>\n",
       "      <td>39.617967</td>\n",
       "      <td>39.647976</td>\n",
       "      <td>1.030058</td>\n",
       "      <td>50.060098</td>\n",
       "      <td>Normal</td>\n",
       "    </tr>\n",
       "    <tr>\n",
       "      <th>4</th>\n",
       "      <td>24.80</td>\n",
       "      <td>8.00</td>\n",
       "      <td>157335</td>\n",
       "      <td>23</td>\n",
       "      <td>21</td>\n",
       "      <td>ack</td>\n",
       "      <td>55</td>\n",
       "      <td>-------</td>\n",
       "      <td>9</td>\n",
       "      <td>4901</td>\n",
       "      <td>...</td>\n",
       "      <td>328.114</td>\n",
       "      <td>18046.2</td>\n",
       "      <td>55.0</td>\n",
       "      <td>0.008438</td>\n",
       "      <td>0.0</td>\n",
       "      <td>16.029803</td>\n",
       "      <td>16.059813</td>\n",
       "      <td>1.030054</td>\n",
       "      <td>50.061864</td>\n",
       "      <td>Normal</td>\n",
       "    </tr>\n",
       "  </tbody>\n",
       "</table>\n",
       "<p>5 rows × 28 columns</p>\n",
       "</div>"
      ],
      "text/plain": [
       "   SRC_ADD  DES_ADD  PKT_ID  FROM_NODE  TO_NODE PKT_TYPE  PKT_SIZE    FLAGS  \\\n",
       "0     3.00    24.30  389693         21       23      tcp      1540  -------   \n",
       "1    15.00    24.15  201196         23       24      tcp      1540  -------   \n",
       "2    24.15    15.00   61905         23       22      ack        55  -------   \n",
       "3    24.90     9.00  443135         23       21      ack        55  -------   \n",
       "4    24.80     8.00  157335         23       21      ack        55  -------   \n",
       "\n",
       "   FID  SEQ_NUMBER  ...  PKT_RATE  BYTE_RATE PKT_AVG_SIZE UTILIZATION  \\\n",
       "0    4       11339  ...   328.241   505490.0       1540.0    0.236321   \n",
       "1   16        6274  ...   328.206   505437.0       1540.0    0.236337   \n",
       "2   16        1930  ...   328.206    18051.3         55.0    0.008441   \n",
       "3   10       12670  ...   328.064    18043.5         55.0    0.008437   \n",
       "4    9        4901  ...   328.114    18046.2         55.0    0.008438   \n",
       "\n",
       "   PKT_DELAY  PKT_SEND_TIME  PKT_RESEVED_TIME  FIRST_PKT_SENT  \\\n",
       "0        0.0      35.519662         35.550032        1.000000   \n",
       "1        0.0      20.156478         20.186848        1.000000   \n",
       "2        0.0       7.039952          7.069962        1.030045   \n",
       "3        0.0      39.617967         39.647976        1.030058   \n",
       "4        0.0      16.029803         16.059813        1.030054   \n",
       "\n",
       "  LAST_PKT_RESEVED  PKT_CLASS  \n",
       "0        50.021920     Normal  \n",
       "1        50.030211     Normal  \n",
       "2        50.060221  UDP-Flood  \n",
       "3        50.060098     Normal  \n",
       "4        50.061864     Normal  \n",
       "\n",
       "[5 rows x 28 columns]"
      ]
     },
     "execution_count": 2,
     "metadata": {},
     "output_type": "execute_result"
    }
   ],
   "source": [
    "data=pd.read_csv(\"final-dataset.csv\")\n",
    "data.head()"
   ]
  },
  {
   "cell_type": "code",
   "execution_count": 3,
   "metadata": {},
   "outputs": [
    {
     "name": "stdout",
     "output_type": "stream",
     "text": [
      "<class 'pandas.core.frame.DataFrame'>\n",
      "RangeIndex: 977025 entries, 0 to 977024\n",
      "Data columns (total 28 columns):\n",
      " #   Column            Non-Null Count   Dtype  \n",
      "---  ------            --------------   -----  \n",
      " 0   SRC_ADD           977025 non-null  float64\n",
      " 1   DES_ADD           977025 non-null  float64\n",
      " 2   PKT_ID            977025 non-null  int64  \n",
      " 3   FROM_NODE         977025 non-null  int64  \n",
      " 4   TO_NODE           977025 non-null  int64  \n",
      " 5   PKT_TYPE          977025 non-null  object \n",
      " 6   PKT_SIZE          977025 non-null  int64  \n",
      " 7   FLAGS             977025 non-null  object \n",
      " 8   FID               977025 non-null  int64  \n",
      " 9   SEQ_NUMBER        977025 non-null  int64  \n",
      " 10  NUMBER_OF_PKT     977025 non-null  int64  \n",
      " 11  NUMBER_OF_BYTE    977025 non-null  int64  \n",
      " 12  NODE_NAME_FROM    977025 non-null  object \n",
      " 13  NODE_NAME_TO      977024 non-null  object \n",
      " 14  PKT_IN            977023 non-null  float64\n",
      " 15  PKT_OUT           977023 non-null  float64\n",
      " 16  PKT_R             977023 non-null  float64\n",
      " 17  PKT_DELAY_NODE    977023 non-null  float64\n",
      " 18  PKT_RATE          977023 non-null  object \n",
      " 19  BYTE_RATE         977022 non-null  float64\n",
      " 20  PKT_AVG_SIZE      977022 non-null  float64\n",
      " 21  UTILIZATION       977022 non-null  float64\n",
      " 22  PKT_DELAY         977022 non-null  float64\n",
      " 23  PKT_SEND_TIME     977022 non-null  float64\n",
      " 24  PKT_RESEVED_TIME  977022 non-null  float64\n",
      " 25  FIRST_PKT_SENT    977022 non-null  float64\n",
      " 26  LAST_PKT_RESEVED  977022 non-null  float64\n",
      " 27  PKT_CLASS         977022 non-null  object \n",
      "dtypes: float64(14), int64(8), object(6)\n",
      "memory usage: 208.7+ MB\n"
     ]
    }
   ],
   "source": [
    "data.info()"
   ]
  },
  {
   "cell_type": "code",
   "execution_count": 4,
   "metadata": {},
   "outputs": [
    {
     "data": {
      "text/html": [
       "<div>\n",
       "<style scoped>\n",
       "    .dataframe tbody tr th:only-of-type {\n",
       "        vertical-align: middle;\n",
       "    }\n",
       "\n",
       "    .dataframe tbody tr th {\n",
       "        vertical-align: top;\n",
       "    }\n",
       "\n",
       "    .dataframe thead th {\n",
       "        text-align: right;\n",
       "    }\n",
       "</style>\n",
       "<table border=\"1\" class=\"dataframe\">\n",
       "  <thead>\n",
       "    <tr style=\"text-align: right;\">\n",
       "      <th></th>\n",
       "      <th>SRC_ADD</th>\n",
       "      <th>DES_ADD</th>\n",
       "      <th>PKT_ID</th>\n",
       "      <th>FROM_NODE</th>\n",
       "      <th>TO_NODE</th>\n",
       "      <th>PKT_SIZE</th>\n",
       "      <th>FID</th>\n",
       "      <th>SEQ_NUMBER</th>\n",
       "      <th>NUMBER_OF_PKT</th>\n",
       "      <th>NUMBER_OF_BYTE</th>\n",
       "      <th>...</th>\n",
       "      <th>PKT_R</th>\n",
       "      <th>PKT_DELAY_NODE</th>\n",
       "      <th>BYTE_RATE</th>\n",
       "      <th>PKT_AVG_SIZE</th>\n",
       "      <th>UTILIZATION</th>\n",
       "      <th>PKT_DELAY</th>\n",
       "      <th>PKT_SEND_TIME</th>\n",
       "      <th>PKT_RESEVED_TIME</th>\n",
       "      <th>FIRST_PKT_SENT</th>\n",
       "      <th>LAST_PKT_RESEVED</th>\n",
       "    </tr>\n",
       "  </thead>\n",
       "  <tbody>\n",
       "    <tr>\n",
       "      <th>count</th>\n",
       "      <td>977025.000000</td>\n",
       "      <td>977025.000000</td>\n",
       "      <td>977025.000000</td>\n",
       "      <td>977025.000000</td>\n",
       "      <td>977025.000000</td>\n",
       "      <td>977025.000000</td>\n",
       "      <td>977025.000000</td>\n",
       "      <td>9.770250e+05</td>\n",
       "      <td>977025.000000</td>\n",
       "      <td>9.770250e+05</td>\n",
       "      <td>...</td>\n",
       "      <td>977023.000000</td>\n",
       "      <td>977023.000000</td>\n",
       "      <td>9.770220e+05</td>\n",
       "      <td>977022.000000</td>\n",
       "      <td>977022.000000</td>\n",
       "      <td>977022.000000</td>\n",
       "      <td>977022.000000</td>\n",
       "      <td>977022.000000</td>\n",
       "      <td>977022.000000</td>\n",
       "      <td>977022.000000</td>\n",
       "    </tr>\n",
       "    <tr>\n",
       "      <th>mean</th>\n",
       "      <td>14.460194</td>\n",
       "      <td>18.243119</td>\n",
       "      <td>290238.604907</td>\n",
       "      <td>19.589946</td>\n",
       "      <td>20.829160</td>\n",
       "      <td>1054.529304</td>\n",
       "      <td>13.933393</td>\n",
       "      <td>1.853144e+04</td>\n",
       "      <td>13472.640645</td>\n",
       "      <td>1.139637e+07</td>\n",
       "      <td>...</td>\n",
       "      <td>31.354636</td>\n",
       "      <td>0.001084</td>\n",
       "      <td>3.319479e+05</td>\n",
       "      <td>1054.528603</td>\n",
       "      <td>0.108684</td>\n",
       "      <td>0.005852</td>\n",
       "      <td>31.332666</td>\n",
       "      <td>31.365501</td>\n",
       "      <td>5.171337</td>\n",
       "      <td>50.683292</td>\n",
       "    </tr>\n",
       "    <tr>\n",
       "      <th>std</th>\n",
       "      <td>8.769697</td>\n",
       "      <td>8.542978</td>\n",
       "      <td>195616.043087</td>\n",
       "      <td>6.281343</td>\n",
       "      <td>5.282073</td>\n",
       "      <td>3321.060303</td>\n",
       "      <td>10.974616</td>\n",
       "      <td>1.375221e+05</td>\n",
       "      <td>4264.981917</td>\n",
       "      <td>1.054476e+07</td>\n",
       "      <td>...</td>\n",
       "      <td>17.954607</td>\n",
       "      <td>0.051374</td>\n",
       "      <td>3.989866e+05</td>\n",
       "      <td>3321.072866</td>\n",
       "      <td>0.100563</td>\n",
       "      <td>0.019870</td>\n",
       "      <td>17.953541</td>\n",
       "      <td>17.955156</td>\n",
       "      <td>9.081897</td>\n",
       "      <td>16.599191</td>\n",
       "    </tr>\n",
       "    <tr>\n",
       "      <th>min</th>\n",
       "      <td>0.000000</td>\n",
       "      <td>0.000000</td>\n",
       "      <td>0.000000</td>\n",
       "      <td>0.000000</td>\n",
       "      <td>0.000000</td>\n",
       "      <td>55.000000</td>\n",
       "      <td>0.000000</td>\n",
       "      <td>-1.000000e+00</td>\n",
       "      <td>9.000000</td>\n",
       "      <td>6.050000e+02</td>\n",
       "      <td>...</td>\n",
       "      <td>0.015243</td>\n",
       "      <td>-0.039216</td>\n",
       "      <td>5.378760e+01</td>\n",
       "      <td>55.000000</td>\n",
       "      <td>0.000006</td>\n",
       "      <td>-0.114464</td>\n",
       "      <td>0.000000</td>\n",
       "      <td>0.030015</td>\n",
       "      <td>0.000000</td>\n",
       "      <td>1.756152</td>\n",
       "    </tr>\n",
       "    <tr>\n",
       "      <th>25%</th>\n",
       "      <td>7.000000</td>\n",
       "      <td>11.000000</td>\n",
       "      <td>101227.000000</td>\n",
       "      <td>21.000000</td>\n",
       "      <td>21.000000</td>\n",
       "      <td>55.000000</td>\n",
       "      <td>5.000000</td>\n",
       "      <td>2.354000e+03</td>\n",
       "      <td>9108.000000</td>\n",
       "      <td>8.850600e+05</td>\n",
       "      <td>...</td>\n",
       "      <td>16.672206</td>\n",
       "      <td>0.000000</td>\n",
       "      <td>1.805740e+04</td>\n",
       "      <td>55.000000</td>\n",
       "      <td>0.008441</td>\n",
       "      <td>0.000000</td>\n",
       "      <td>16.651158</td>\n",
       "      <td>16.682931</td>\n",
       "      <td>1.000000</td>\n",
       "      <td>50.021920</td>\n",
       "    </tr>\n",
       "    <tr>\n",
       "      <th>50%</th>\n",
       "      <td>14.000000</td>\n",
       "      <td>24.130000</td>\n",
       "      <td>281220.000000</td>\n",
       "      <td>22.000000</td>\n",
       "      <td>23.000000</td>\n",
       "      <td>1000.000000</td>\n",
       "      <td>11.000000</td>\n",
       "      <td>5.552000e+03</td>\n",
       "      <td>16091.000000</td>\n",
       "      <td>6.250000e+06</td>\n",
       "      <td>...</td>\n",
       "      <td>30.936930</td>\n",
       "      <td>0.000000</td>\n",
       "      <td>1.249430e+05</td>\n",
       "      <td>1000.000000</td>\n",
       "      <td>0.059605</td>\n",
       "      <td>0.000000</td>\n",
       "      <td>30.917858</td>\n",
       "      <td>30.949170</td>\n",
       "      <td>1.030016</td>\n",
       "      <td>50.040685</td>\n",
       "    </tr>\n",
       "    <tr>\n",
       "      <th>75%</th>\n",
       "      <td>24.130000</td>\n",
       "      <td>24.370000</td>\n",
       "      <td>461656.000000</td>\n",
       "      <td>23.000000</td>\n",
       "      <td>23.000000</td>\n",
       "      <td>1540.000000</td>\n",
       "      <td>21.000000</td>\n",
       "      <td>1.074900e+04</td>\n",
       "      <td>16092.000000</td>\n",
       "      <td>2.478010e+07</td>\n",
       "      <td>...</td>\n",
       "      <td>43.808412</td>\n",
       "      <td>0.000000</td>\n",
       "      <td>5.055260e+05</td>\n",
       "      <td>1540.000000</td>\n",
       "      <td>0.236321</td>\n",
       "      <td>0.000844</td>\n",
       "      <td>43.786495</td>\n",
       "      <td>43.818602</td>\n",
       "      <td>1.030051</td>\n",
       "      <td>50.060098</td>\n",
       "    </tr>\n",
       "    <tr>\n",
       "      <th>max</th>\n",
       "      <td>26.000000</td>\n",
       "      <td>26.000000</td>\n",
       "      <td>641599.000000</td>\n",
       "      <td>26.000000</td>\n",
       "      <td>26.000000</td>\n",
       "      <td>65535.000000</td>\n",
       "      <td>40.000000</td>\n",
       "      <td>3.015537e+06</td>\n",
       "      <td>16103.000000</td>\n",
       "      <td>2.479860e+07</td>\n",
       "      <td>...</td>\n",
       "      <td>75.999821</td>\n",
       "      <td>50.025737</td>\n",
       "      <td>1.677420e+06</td>\n",
       "      <td>65535.200000</td>\n",
       "      <td>0.236498</td>\n",
       "      <td>0.153680</td>\n",
       "      <td>75.983741</td>\n",
       "      <td>75.999821</td>\n",
       "      <td>25.000000</td>\n",
       "      <td>75.999821</td>\n",
       "    </tr>\n",
       "  </tbody>\n",
       "</table>\n",
       "<p>8 rows × 22 columns</p>\n",
       "</div>"
      ],
      "text/plain": [
       "             SRC_ADD        DES_ADD         PKT_ID      FROM_NODE  \\\n",
       "count  977025.000000  977025.000000  977025.000000  977025.000000   \n",
       "mean       14.460194      18.243119  290238.604907      19.589946   \n",
       "std         8.769697       8.542978  195616.043087       6.281343   \n",
       "min         0.000000       0.000000       0.000000       0.000000   \n",
       "25%         7.000000      11.000000  101227.000000      21.000000   \n",
       "50%        14.000000      24.130000  281220.000000      22.000000   \n",
       "75%        24.130000      24.370000  461656.000000      23.000000   \n",
       "max        26.000000      26.000000  641599.000000      26.000000   \n",
       "\n",
       "             TO_NODE       PKT_SIZE            FID    SEQ_NUMBER  \\\n",
       "count  977025.000000  977025.000000  977025.000000  9.770250e+05   \n",
       "mean       20.829160    1054.529304      13.933393  1.853144e+04   \n",
       "std         5.282073    3321.060303      10.974616  1.375221e+05   \n",
       "min         0.000000      55.000000       0.000000 -1.000000e+00   \n",
       "25%        21.000000      55.000000       5.000000  2.354000e+03   \n",
       "50%        23.000000    1000.000000      11.000000  5.552000e+03   \n",
       "75%        23.000000    1540.000000      21.000000  1.074900e+04   \n",
       "max        26.000000   65535.000000      40.000000  3.015537e+06   \n",
       "\n",
       "       NUMBER_OF_PKT  NUMBER_OF_BYTE  ...          PKT_R  PKT_DELAY_NODE  \\\n",
       "count  977025.000000    9.770250e+05  ...  977023.000000   977023.000000   \n",
       "mean    13472.640645    1.139637e+07  ...      31.354636        0.001084   \n",
       "std      4264.981917    1.054476e+07  ...      17.954607        0.051374   \n",
       "min         9.000000    6.050000e+02  ...       0.015243       -0.039216   \n",
       "25%      9108.000000    8.850600e+05  ...      16.672206        0.000000   \n",
       "50%     16091.000000    6.250000e+06  ...      30.936930        0.000000   \n",
       "75%     16092.000000    2.478010e+07  ...      43.808412        0.000000   \n",
       "max     16103.000000    2.479860e+07  ...      75.999821       50.025737   \n",
       "\n",
       "          BYTE_RATE   PKT_AVG_SIZE    UTILIZATION      PKT_DELAY  \\\n",
       "count  9.770220e+05  977022.000000  977022.000000  977022.000000   \n",
       "mean   3.319479e+05    1054.528603       0.108684       0.005852   \n",
       "std    3.989866e+05    3321.072866       0.100563       0.019870   \n",
       "min    5.378760e+01      55.000000       0.000006      -0.114464   \n",
       "25%    1.805740e+04      55.000000       0.008441       0.000000   \n",
       "50%    1.249430e+05    1000.000000       0.059605       0.000000   \n",
       "75%    5.055260e+05    1540.000000       0.236321       0.000844   \n",
       "max    1.677420e+06   65535.200000       0.236498       0.153680   \n",
       "\n",
       "       PKT_SEND_TIME  PKT_RESEVED_TIME  FIRST_PKT_SENT  LAST_PKT_RESEVED  \n",
       "count  977022.000000     977022.000000   977022.000000     977022.000000  \n",
       "mean       31.332666         31.365501        5.171337         50.683292  \n",
       "std        17.953541         17.955156        9.081897         16.599191  \n",
       "min         0.000000          0.030015        0.000000          1.756152  \n",
       "25%        16.651158         16.682931        1.000000         50.021920  \n",
       "50%        30.917858         30.949170        1.030016         50.040685  \n",
       "75%        43.786495         43.818602        1.030051         50.060098  \n",
       "max        75.983741         75.999821       25.000000         75.999821  \n",
       "\n",
       "[8 rows x 22 columns]"
      ]
     },
     "execution_count": 4,
     "metadata": {},
     "output_type": "execute_result"
    }
   ],
   "source": [
    "data.describe()"
   ]
  },
  {
   "cell_type": "code",
   "execution_count": 5,
   "metadata": {},
   "outputs": [
    {
     "data": {
      "text/plain": [
       "(977025, 28)"
      ]
     },
     "execution_count": 5,
     "metadata": {},
     "output_type": "execute_result"
    }
   ],
   "source": [
    "data.shape"
   ]
  },
  {
   "cell_type": "markdown",
   "metadata": {},
   "source": [
    "## Data Preprocessing"
   ]
  },
  {
   "cell_type": "code",
   "execution_count": 6,
   "metadata": {},
   "outputs": [
    {
     "data": {
      "text/plain": [
       "Index(['SRC_ADD', 'DES_ADD', 'PKT_ID', 'FROM_NODE', 'TO_NODE', 'PKT_TYPE',\n",
       "       'PKT_SIZE', 'FLAGS', 'FID', 'SEQ_NUMBER', 'NUMBER_OF_PKT',\n",
       "       'NUMBER_OF_BYTE', 'NODE_NAME_FROM', 'NODE_NAME_TO', 'PKT_IN', 'PKT_OUT',\n",
       "       'PKT_R', 'PKT_DELAY_NODE', 'PKT_RATE', 'BYTE_RATE', 'PKT_AVG_SIZE',\n",
       "       'UTILIZATION', 'PKT_DELAY', 'PKT_SEND_TIME', 'PKT_RESEVED_TIME',\n",
       "       'FIRST_PKT_SENT', 'LAST_PKT_RESEVED', 'PKT_CLASS'],\n",
       "      dtype='object')"
      ]
     },
     "execution_count": 6,
     "metadata": {},
     "output_type": "execute_result"
    }
   ],
   "source": [
    "data.columns"
   ]
  },
  {
   "cell_type": "code",
   "execution_count": 7,
   "metadata": {},
   "outputs": [
    {
     "data": {
      "text/plain": [
       "SRC_ADD             0\n",
       "DES_ADD             0\n",
       "PKT_ID              0\n",
       "FROM_NODE           0\n",
       "TO_NODE             0\n",
       "PKT_TYPE            0\n",
       "PKT_SIZE            0\n",
       "FLAGS               0\n",
       "FID                 0\n",
       "SEQ_NUMBER          0\n",
       "NUMBER_OF_PKT       0\n",
       "NUMBER_OF_BYTE      0\n",
       "NODE_NAME_FROM      0\n",
       "NODE_NAME_TO        1\n",
       "PKT_IN              2\n",
       "PKT_OUT             2\n",
       "PKT_R               2\n",
       "PKT_DELAY_NODE      2\n",
       "PKT_RATE            2\n",
       "BYTE_RATE           3\n",
       "PKT_AVG_SIZE        3\n",
       "UTILIZATION         3\n",
       "PKT_DELAY           3\n",
       "PKT_SEND_TIME       3\n",
       "PKT_RESEVED_TIME    3\n",
       "FIRST_PKT_SENT      3\n",
       "LAST_PKT_RESEVED    3\n",
       "PKT_CLASS           3\n",
       "dtype: int64"
      ]
     },
     "execution_count": 7,
     "metadata": {},
     "output_type": "execute_result"
    }
   ],
   "source": [
    "data_missing_values = data.isnull().sum()\n",
    "data_missing_values"
   ]
  },
  {
   "cell_type": "code",
   "execution_count": 61,
   "metadata": {
    "scrolled": true
   },
   "outputs": [
    {
     "data": {
      "text/plain": [
       "SRC_ADD             0\n",
       "DES_ADD             0\n",
       "PKT_ID              0\n",
       "FROM_NODE           0\n",
       "TO_NODE             0\n",
       "PKT_TYPE            0\n",
       "PKT_SIZE            0\n",
       "FLAGS               0\n",
       "FID                 0\n",
       "SEQ_NUMBER          0\n",
       "NUMBER_OF_PKT       0\n",
       "NUMBER_OF_BYTE      0\n",
       "NODE_NAME_FROM      0\n",
       "NODE_NAME_TO        0\n",
       "PKT_IN              0\n",
       "PKT_OUT             0\n",
       "PKT_R               0\n",
       "PKT_DELAY_NODE      0\n",
       "PKT_RATE            0\n",
       "BYTE_RATE           0\n",
       "PKT_AVG_SIZE        0\n",
       "UTILIZATION         0\n",
       "PKT_DELAY           0\n",
       "PKT_SEND_TIME       0\n",
       "PKT_RESEVED_TIME    0\n",
       "FIRST_PKT_SENT      0\n",
       "LAST_PKT_RESEVED    0\n",
       "PKT_CLASS           0\n",
       "dtype: int64"
      ]
     },
     "execution_count": 61,
     "metadata": {},
     "output_type": "execute_result"
    }
   ],
   "source": [
    "ndata=data.dropna()\n",
    "ndata.isnull().sum()"
   ]
  },
  {
   "cell_type": "code",
   "execution_count": 114,
   "metadata": {
    "scrolled": true
   },
   "outputs": [
    {
     "data": {
      "text/plain": [
       "SRC_ADD             0\n",
       "DES_ADD             0\n",
       "PKT_ID              0\n",
       "FROM_NODE           0\n",
       "TO_NODE             0\n",
       "PKT_TYPE            0\n",
       "PKT_SIZE            0\n",
       "FLAGS               0\n",
       "FID                 0\n",
       "SEQ_NUMBER          0\n",
       "NUMBER_OF_PKT       0\n",
       "NUMBER_OF_BYTE      0\n",
       "NODE_NAME_FROM      0\n",
       "NODE_NAME_TO        1\n",
       "PKT_IN              2\n",
       "PKT_OUT             2\n",
       "PKT_R               2\n",
       "PKT_DELAY_NODE      2\n",
       "PKT_RATE            2\n",
       "BYTE_RATE           3\n",
       "PKT_AVG_SIZE        3\n",
       "UTILIZATION         3\n",
       "PKT_DELAY           3\n",
       "PKT_SEND_TIME       3\n",
       "PKT_RESEVED_TIME    3\n",
       "FIRST_PKT_SENT      3\n",
       "LAST_PKT_RESEVED    3\n",
       "PKT_CLASS           3\n",
       "dtype: int64"
      ]
     },
     "execution_count": 114,
     "metadata": {},
     "output_type": "execute_result"
    }
   ],
   "source": [
    "data_values = data.isna().sum()\n",
    "data_values"
   ]
  },
  {
   "cell_type": "code",
   "execution_count": 115,
   "metadata": {},
   "outputs": [
    {
     "data": {
      "text/plain": [
       "SRC_ADD             0\n",
       "DES_ADD             0\n",
       "PKT_ID              0\n",
       "FROM_NODE           0\n",
       "TO_NODE             0\n",
       "PKT_TYPE            0\n",
       "PKT_SIZE            0\n",
       "FLAGS               0\n",
       "FID                 0\n",
       "SEQ_NUMBER          0\n",
       "NUMBER_OF_PKT       0\n",
       "NUMBER_OF_BYTE      0\n",
       "NODE_NAME_FROM      0\n",
       "NODE_NAME_TO        0\n",
       "PKT_IN              0\n",
       "PKT_OUT             0\n",
       "PKT_R               0\n",
       "PKT_DELAY_NODE      0\n",
       "PKT_RATE            0\n",
       "BYTE_RATE           0\n",
       "PKT_AVG_SIZE        0\n",
       "UTILIZATION         0\n",
       "PKT_DELAY           0\n",
       "PKT_SEND_TIME       0\n",
       "PKT_RESEVED_TIME    0\n",
       "FIRST_PKT_SENT      0\n",
       "LAST_PKT_RESEVED    0\n",
       "PKT_CLASS           0\n",
       "dtype: int64"
      ]
     },
     "execution_count": 115,
     "metadata": {},
     "output_type": "execute_result"
    }
   ],
   "source": [
    "nandata=data.dropna()\n",
    "nandata.isna().sum()"
   ]
  },
  {
   "cell_type": "markdown",
   "metadata": {},
   "source": [
    "## Visualization"
   ]
  },
  {
   "cell_type": "markdown",
   "metadata": {},
   "source": [
    "ms.matrix(data)"
   ]
  },
  {
   "cell_type": "markdown",
   "metadata": {},
   "source": [
    "## Dataframe Creation"
   ]
  },
  {
   "cell_type": "code",
   "execution_count": 116,
   "metadata": {},
   "outputs": [
    {
     "data": {
      "text/html": [
       "<div>\n",
       "<style scoped>\n",
       "    .dataframe tbody tr th:only-of-type {\n",
       "        vertical-align: middle;\n",
       "    }\n",
       "\n",
       "    .dataframe tbody tr th {\n",
       "        vertical-align: top;\n",
       "    }\n",
       "\n",
       "    .dataframe thead th {\n",
       "        text-align: right;\n",
       "    }\n",
       "</style>\n",
       "<table border=\"1\" class=\"dataframe\">\n",
       "  <thead>\n",
       "    <tr style=\"text-align: right;\">\n",
       "      <th></th>\n",
       "      <th>SRC_ADD</th>\n",
       "      <th>DES_ADD</th>\n",
       "      <th>PKT_ID</th>\n",
       "      <th>FROM_NODE</th>\n",
       "      <th>TO_NODE</th>\n",
       "      <th>PKT_TYPE</th>\n",
       "      <th>PKT_SIZE</th>\n",
       "      <th>FLAGS</th>\n",
       "      <th>FID</th>\n",
       "      <th>PKT_RATE</th>\n",
       "      <th>BYTE_RATE</th>\n",
       "      <th>PKT_AVG_SIZE</th>\n",
       "      <th>UTILIZATION</th>\n",
       "      <th>PKT_DELAY</th>\n",
       "      <th>PKT_SEND_TIME</th>\n",
       "      <th>PKT_RESEVED_TIME</th>\n",
       "      <th>FIRST_PKT_SENT</th>\n",
       "      <th>LAST_PKT_RESEVED</th>\n",
       "      <th>PKT_CLASS</th>\n",
       "    </tr>\n",
       "  </thead>\n",
       "  <tbody>\n",
       "    <tr>\n",
       "      <th>758701</th>\n",
       "      <td>12.20</td>\n",
       "      <td>24.54</td>\n",
       "      <td>21921</td>\n",
       "      <td>23</td>\n",
       "      <td>24</td>\n",
       "      <td>cbr</td>\n",
       "      <td>1500</td>\n",
       "      <td>-------</td>\n",
       "      <td>33</td>\n",
       "      <td>962.685</td>\n",
       "      <td>1444030.0</td>\n",
       "      <td>1500.0</td>\n",
       "      <td>0.123811</td>\n",
       "      <td>0.033071</td>\n",
       "      <td>21.420143</td>\n",
       "      <td>21.453214</td>\n",
       "      <td>1.000000</td>\n",
       "      <td>9.990480</td>\n",
       "      <td>UDP-Flood</td>\n",
       "    </tr>\n",
       "    <tr>\n",
       "      <th>5282</th>\n",
       "      <td>12.10</td>\n",
       "      <td>24.32</td>\n",
       "      <td>592525</td>\n",
       "      <td>22</td>\n",
       "      <td>23</td>\n",
       "      <td>cbr</td>\n",
       "      <td>1000</td>\n",
       "      <td>-------</td>\n",
       "      <td>33</td>\n",
       "      <td>124.943</td>\n",
       "      <td>124943.0</td>\n",
       "      <td>1000.0</td>\n",
       "      <td>0.059605</td>\n",
       "      <td>0.000400</td>\n",
       "      <td>55.512000</td>\n",
       "      <td>55.542640</td>\n",
       "      <td>25.000000</td>\n",
       "      <td>75.022640</td>\n",
       "      <td>Normal</td>\n",
       "    </tr>\n",
       "    <tr>\n",
       "      <th>269110</th>\n",
       "      <td>5.00</td>\n",
       "      <td>24.50</td>\n",
       "      <td>156294</td>\n",
       "      <td>5</td>\n",
       "      <td>21</td>\n",
       "      <td>tcp</td>\n",
       "      <td>1540</td>\n",
       "      <td>-------</td>\n",
       "      <td>6</td>\n",
       "      <td>328.205</td>\n",
       "      <td>505434.0</td>\n",
       "      <td>1540.0</td>\n",
       "      <td>0.236321</td>\n",
       "      <td>0.000000</td>\n",
       "      <td>15.929028</td>\n",
       "      <td>15.959397</td>\n",
       "      <td>1.000000</td>\n",
       "      <td>50.027339</td>\n",
       "      <td>Normal</td>\n",
       "    </tr>\n",
       "    <tr>\n",
       "      <th>652271</th>\n",
       "      <td>19.10</td>\n",
       "      <td>24.39</td>\n",
       "      <td>585756</td>\n",
       "      <td>23</td>\n",
       "      <td>24</td>\n",
       "      <td>cbr</td>\n",
       "      <td>1000</td>\n",
       "      <td>-------</td>\n",
       "      <td>40</td>\n",
       "      <td>124.941</td>\n",
       "      <td>124941.0</td>\n",
       "      <td>1000.0</td>\n",
       "      <td>0.059605</td>\n",
       "      <td>0.001520</td>\n",
       "      <td>52.816000</td>\n",
       "      <td>52.847760</td>\n",
       "      <td>25.000000</td>\n",
       "      <td>75.023760</td>\n",
       "      <td>Normal</td>\n",
       "    </tr>\n",
       "    <tr>\n",
       "      <th>439803</th>\n",
       "      <td>24.10</td>\n",
       "      <td>10.00</td>\n",
       "      <td>364307</td>\n",
       "      <td>24</td>\n",
       "      <td>23</td>\n",
       "      <td>ack</td>\n",
       "      <td>55</td>\n",
       "      <td>-------</td>\n",
       "      <td>11</td>\n",
       "      <td>328.562</td>\n",
       "      <td>18070.9</td>\n",
       "      <td>55.0</td>\n",
       "      <td>0.008446</td>\n",
       "      <td>0.000000</td>\n",
       "      <td>33.572864</td>\n",
       "      <td>33.602874</td>\n",
       "      <td>1.030013</td>\n",
       "      <td>50.040562</td>\n",
       "      <td>Normal</td>\n",
       "    </tr>\n",
       "    <tr>\n",
       "      <th>...</th>\n",
       "      <td>...</td>\n",
       "      <td>...</td>\n",
       "      <td>...</td>\n",
       "      <td>...</td>\n",
       "      <td>...</td>\n",
       "      <td>...</td>\n",
       "      <td>...</td>\n",
       "      <td>...</td>\n",
       "      <td>...</td>\n",
       "      <td>...</td>\n",
       "      <td>...</td>\n",
       "      <td>...</td>\n",
       "      <td>...</td>\n",
       "      <td>...</td>\n",
       "      <td>...</td>\n",
       "      <td>...</td>\n",
       "      <td>...</td>\n",
       "      <td>...</td>\n",
       "      <td>...</td>\n",
       "    </tr>\n",
       "    <tr>\n",
       "      <th>441129</th>\n",
       "      <td>6.10</td>\n",
       "      <td>24.26</td>\n",
       "      <td>586343</td>\n",
       "      <td>6</td>\n",
       "      <td>21</td>\n",
       "      <td>cbr</td>\n",
       "      <td>1000</td>\n",
       "      <td>-------</td>\n",
       "      <td>27</td>\n",
       "      <td>124.942</td>\n",
       "      <td>124942.0</td>\n",
       "      <td>1000.0</td>\n",
       "      <td>0.059605</td>\n",
       "      <td>0.000960</td>\n",
       "      <td>53.056000</td>\n",
       "      <td>53.087200</td>\n",
       "      <td>25.000000</td>\n",
       "      <td>75.023200</td>\n",
       "      <td>Normal</td>\n",
       "    </tr>\n",
       "    <tr>\n",
       "      <th>53863</th>\n",
       "      <td>6.00</td>\n",
       "      <td>24.60</td>\n",
       "      <td>539099</td>\n",
       "      <td>21</td>\n",
       "      <td>23</td>\n",
       "      <td>tcp</td>\n",
       "      <td>1540</td>\n",
       "      <td>-------</td>\n",
       "      <td>7</td>\n",
       "      <td>328.193</td>\n",
       "      <td>505416.0</td>\n",
       "      <td>1540.0</td>\n",
       "      <td>0.236321</td>\n",
       "      <td>0.000124</td>\n",
       "      <td>46.979472</td>\n",
       "      <td>47.009965</td>\n",
       "      <td>1.000000</td>\n",
       "      <td>50.029102</td>\n",
       "      <td>Normal</td>\n",
       "    </tr>\n",
       "    <tr>\n",
       "      <th>185612</th>\n",
       "      <td>2.00</td>\n",
       "      <td>24.20</td>\n",
       "      <td>195349</td>\n",
       "      <td>2</td>\n",
       "      <td>21</td>\n",
       "      <td>tcp</td>\n",
       "      <td>1540</td>\n",
       "      <td>-------</td>\n",
       "      <td>3</td>\n",
       "      <td>328.264</td>\n",
       "      <td>505526.0</td>\n",
       "      <td>1540.0</td>\n",
       "      <td>0.236321</td>\n",
       "      <td>0.000000</td>\n",
       "      <td>19.605427</td>\n",
       "      <td>19.635797</td>\n",
       "      <td>1.000000</td>\n",
       "      <td>50.018467</td>\n",
       "      <td>Normal</td>\n",
       "    </tr>\n",
       "    <tr>\n",
       "      <th>202773</th>\n",
       "      <td>24.13</td>\n",
       "      <td>13.00</td>\n",
       "      <td>68748</td>\n",
       "      <td>24</td>\n",
       "      <td>23</td>\n",
       "      <td>ack</td>\n",
       "      <td>55</td>\n",
       "      <td>-------</td>\n",
       "      <td>14</td>\n",
       "      <td>328.46</td>\n",
       "      <td>18065.3</td>\n",
       "      <td>55.0</td>\n",
       "      <td>0.008446</td>\n",
       "      <td>0.000000</td>\n",
       "      <td>7.681331</td>\n",
       "      <td>7.711341</td>\n",
       "      <td>1.030032</td>\n",
       "      <td>50.055747</td>\n",
       "      <td>Normal</td>\n",
       "    </tr>\n",
       "    <tr>\n",
       "      <th>422081</th>\n",
       "      <td>4.00</td>\n",
       "      <td>24.40</td>\n",
       "      <td>72956</td>\n",
       "      <td>4</td>\n",
       "      <td>21</td>\n",
       "      <td>tcp</td>\n",
       "      <td>1540</td>\n",
       "      <td>-------</td>\n",
       "      <td>5</td>\n",
       "      <td>328.218</td>\n",
       "      <td>505455.0</td>\n",
       "      <td>1540.0</td>\n",
       "      <td>0.236321</td>\n",
       "      <td>0.000000</td>\n",
       "      <td>8.079406</td>\n",
       "      <td>8.109776</td>\n",
       "      <td>1.000000</td>\n",
       "      <td>50.025368</td>\n",
       "      <td>Normal</td>\n",
       "    </tr>\n",
       "  </tbody>\n",
       "</table>\n",
       "<p>3000 rows × 19 columns</p>\n",
       "</div>"
      ],
      "text/plain": [
       "        SRC_ADD  DES_ADD  PKT_ID  FROM_NODE  TO_NODE PKT_TYPE  PKT_SIZE  \\\n",
       "758701    12.20    24.54   21921         23       24      cbr      1500   \n",
       "5282      12.10    24.32  592525         22       23      cbr      1000   \n",
       "269110     5.00    24.50  156294          5       21      tcp      1540   \n",
       "652271    19.10    24.39  585756         23       24      cbr      1000   \n",
       "439803    24.10    10.00  364307         24       23      ack        55   \n",
       "...         ...      ...     ...        ...      ...      ...       ...   \n",
       "441129     6.10    24.26  586343          6       21      cbr      1000   \n",
       "53863      6.00    24.60  539099         21       23      tcp      1540   \n",
       "185612     2.00    24.20  195349          2       21      tcp      1540   \n",
       "202773    24.13    13.00   68748         24       23      ack        55   \n",
       "422081     4.00    24.40   72956          4       21      tcp      1540   \n",
       "\n",
       "          FLAGS  FID PKT_RATE  BYTE_RATE  PKT_AVG_SIZE  UTILIZATION  \\\n",
       "758701  -------   33  962.685  1444030.0        1500.0     0.123811   \n",
       "5282    -------   33  124.943   124943.0        1000.0     0.059605   \n",
       "269110  -------    6  328.205   505434.0        1540.0     0.236321   \n",
       "652271  -------   40  124.941   124941.0        1000.0     0.059605   \n",
       "439803  -------   11  328.562    18070.9          55.0     0.008446   \n",
       "...         ...  ...      ...        ...           ...          ...   \n",
       "441129  -------   27  124.942   124942.0        1000.0     0.059605   \n",
       "53863   -------    7  328.193   505416.0        1540.0     0.236321   \n",
       "185612  -------    3  328.264   505526.0        1540.0     0.236321   \n",
       "202773  -------   14   328.46    18065.3          55.0     0.008446   \n",
       "422081  -------    5  328.218   505455.0        1540.0     0.236321   \n",
       "\n",
       "        PKT_DELAY  PKT_SEND_TIME  PKT_RESEVED_TIME  FIRST_PKT_SENT  \\\n",
       "758701   0.033071      21.420143         21.453214        1.000000   \n",
       "5282     0.000400      55.512000         55.542640       25.000000   \n",
       "269110   0.000000      15.929028         15.959397        1.000000   \n",
       "652271   0.001520      52.816000         52.847760       25.000000   \n",
       "439803   0.000000      33.572864         33.602874        1.030013   \n",
       "...           ...            ...               ...             ...   \n",
       "441129   0.000960      53.056000         53.087200       25.000000   \n",
       "53863    0.000124      46.979472         47.009965        1.000000   \n",
       "185612   0.000000      19.605427         19.635797        1.000000   \n",
       "202773   0.000000       7.681331          7.711341        1.030032   \n",
       "422081   0.000000       8.079406          8.109776        1.000000   \n",
       "\n",
       "        LAST_PKT_RESEVED  PKT_CLASS  \n",
       "758701          9.990480  UDP-Flood  \n",
       "5282           75.022640     Normal  \n",
       "269110         50.027339     Normal  \n",
       "652271         75.023760     Normal  \n",
       "439803         50.040562     Normal  \n",
       "...                  ...        ...  \n",
       "441129         75.023200     Normal  \n",
       "53863          50.029102     Normal  \n",
       "185612         50.018467     Normal  \n",
       "202773         50.055747     Normal  \n",
       "422081         50.025368     Normal  \n",
       "\n",
       "[3000 rows x 19 columns]"
      ]
     },
     "execution_count": 116,
     "metadata": {},
     "output_type": "execute_result"
    }
   ],
   "source": [
    "fdata=pd.DataFrame(data,columns=['SRC_ADD','DES_ADD','PKT_ID','FROM_NODE','TO_NODE','PKT_TYPE','PKT_SIZE','FLAGS','FID','PKT_RATE','BYTE_RATE','PKT_AVG_SIZE','UTILIZATION','PKT_DELAY','PKT_SEND_TIME','PKT_RESEVED_TIME','FIRST_PKT_SENT','LAST_PKT_RESEVED','PKT_CLASS'])\n",
    "fdata=fdata.sample(n=3000)\n",
    "fdata"
   ]
  },
  {
   "cell_type": "markdown",
   "metadata": {},
   "source": [
    "## Label Encoding"
   ]
  },
  {
   "cell_type": "code",
   "execution_count": 117,
   "metadata": {},
   "outputs": [],
   "source": [
    "from sklearn import preprocessing\n",
    "label_encoder = preprocessing.LabelEncoder()"
   ]
  },
  {
   "cell_type": "code",
   "execution_count": 118,
   "metadata": {},
   "outputs": [
    {
     "data": {
      "text/plain": [
       "758701    cbr\n",
       "5282      cbr\n",
       "269110    tcp\n",
       "652271    cbr\n",
       "439803    ack\n",
       "         ... \n",
       "441129    cbr\n",
       "53863     tcp\n",
       "185612    tcp\n",
       "202773    ack\n",
       "422081    tcp\n",
       "Name: PKT_TYPE, Length: 3000, dtype: object"
      ]
     },
     "execution_count": 118,
     "metadata": {},
     "output_type": "execute_result"
    }
   ],
   "source": [
    "fdata['PKT_TYPE']"
   ]
  },
  {
   "cell_type": "code",
   "execution_count": 119,
   "metadata": {},
   "outputs": [
    {
     "data": {
      "text/plain": [
       "array(['cbr', 'tcp', 'ack', 'ping'], dtype=object)"
      ]
     },
     "execution_count": 119,
     "metadata": {},
     "output_type": "execute_result"
    }
   ],
   "source": [
    "fdata.PKT_TYPE.unique()"
   ]
  },
  {
   "cell_type": "code",
   "execution_count": 120,
   "metadata": {},
   "outputs": [
    {
     "data": {
      "text/plain": [
       "array([1, 3, 0, 2])"
      ]
     },
     "execution_count": 120,
     "metadata": {},
     "output_type": "execute_result"
    }
   ],
   "source": [
    "fdata['PKT_TYPE']= label_encoder.fit_transform(fdata['PKT_TYPE'])\n",
    "fdata['PKT_TYPE'].unique()"
   ]
  },
  {
   "cell_type": "code",
   "execution_count": 121,
   "metadata": {},
   "outputs": [
    {
     "data": {
      "text/plain": [
       "758701    1\n",
       "5282      1\n",
       "269110    3\n",
       "652271    1\n",
       "439803    0\n",
       "         ..\n",
       "441129    1\n",
       "53863     3\n",
       "185612    3\n",
       "202773    0\n",
       "422081    3\n",
       "Name: PKT_TYPE, Length: 3000, dtype: int32"
      ]
     },
     "execution_count": 121,
     "metadata": {},
     "output_type": "execute_result"
    }
   ],
   "source": [
    "fdata['PKT_TYPE']"
   ]
  },
  {
   "cell_type": "code",
   "execution_count": 122,
   "metadata": {},
   "outputs": [
    {
     "data": {
      "text/plain": [
       "758701    1.0\n",
       "5282      1.0\n",
       "269110    3.0\n",
       "652271    1.0\n",
       "439803    0.0\n",
       "         ... \n",
       "441129    1.0\n",
       "53863     3.0\n",
       "185612    3.0\n",
       "202773    0.0\n",
       "422081    3.0\n",
       "Name: PKT_TYPE, Length: 3000, dtype: float64"
      ]
     },
     "execution_count": 122,
     "metadata": {},
     "output_type": "execute_result"
    }
   ],
   "source": [
    "fdata['PKT_TYPE']=fdata['PKT_TYPE'].astype(float)\n",
    "fdata['PKT_TYPE']"
   ]
  },
  {
   "cell_type": "code",
   "execution_count": 123,
   "metadata": {},
   "outputs": [
    {
     "data": {
      "text/plain": [
       "758701    -------\n",
       "5282      -------\n",
       "269110    -------\n",
       "652271    -------\n",
       "439803    -------\n",
       "           ...   \n",
       "441129    -------\n",
       "53863     -------\n",
       "185612    -------\n",
       "202773    -------\n",
       "422081    -------\n",
       "Name: FLAGS, Length: 3000, dtype: object"
      ]
     },
     "execution_count": 123,
     "metadata": {},
     "output_type": "execute_result"
    }
   ],
   "source": [
    "fdata['FLAGS']\n"
   ]
  },
  {
   "cell_type": "code",
   "execution_count": 124,
   "metadata": {},
   "outputs": [
    {
     "data": {
      "text/plain": [
       "array(['-------', '---A---'], dtype=object)"
      ]
     },
     "execution_count": 124,
     "metadata": {},
     "output_type": "execute_result"
    }
   ],
   "source": [
    "fdata.FLAGS.unique()"
   ]
  },
  {
   "cell_type": "code",
   "execution_count": 125,
   "metadata": {},
   "outputs": [
    {
     "data": {
      "text/plain": [
       "array([0, 1])"
      ]
     },
     "execution_count": 125,
     "metadata": {},
     "output_type": "execute_result"
    }
   ],
   "source": [
    "fdata['FLAGS']= label_encoder.fit_transform(fdata['FLAGS'])\n",
    "fdata['FLAGS'].unique()"
   ]
  },
  {
   "cell_type": "code",
   "execution_count": 126,
   "metadata": {},
   "outputs": [
    {
     "data": {
      "text/plain": [
       "758701    0.0\n",
       "5282      0.0\n",
       "269110    0.0\n",
       "652271    0.0\n",
       "439803    0.0\n",
       "         ... \n",
       "441129    0.0\n",
       "53863     0.0\n",
       "185612    0.0\n",
       "202773    0.0\n",
       "422081    0.0\n",
       "Name: FLAGS, Length: 3000, dtype: float64"
      ]
     },
     "execution_count": 126,
     "metadata": {},
     "output_type": "execute_result"
    }
   ],
   "source": [
    "fdata['FLAGS']=fdata['FLAGS'].astype(float)\n",
    "fdata['FLAGS']"
   ]
  },
  {
   "cell_type": "code",
   "execution_count": 127,
   "metadata": {},
   "outputs": [
    {
     "data": {
      "text/plain": [
       "758701    UDP-Flood\n",
       "5282         Normal\n",
       "269110       Normal\n",
       "652271       Normal\n",
       "439803       Normal\n",
       "            ...    \n",
       "441129       Normal\n",
       "53863        Normal\n",
       "185612       Normal\n",
       "202773       Normal\n",
       "422081       Normal\n",
       "Name: PKT_CLASS, Length: 3000, dtype: object"
      ]
     },
     "execution_count": 127,
     "metadata": {},
     "output_type": "execute_result"
    }
   ],
   "source": [
    "fdata['PKT_CLASS']"
   ]
  },
  {
   "cell_type": "code",
   "execution_count": 128,
   "metadata": {},
   "outputs": [
    {
     "data": {
      "text/plain": [
       "array(['UDP-Flood', 'Normal', 'SIDDOS', 'Smurf', 'HTTP-FLOOD'],\n",
       "      dtype=object)"
      ]
     },
     "execution_count": 128,
     "metadata": {},
     "output_type": "execute_result"
    }
   ],
   "source": [
    "fdata.PKT_CLASS.unique()"
   ]
  },
  {
   "cell_type": "code",
   "execution_count": null,
   "metadata": {},
   "outputs": [],
   "source": []
  },
  {
   "cell_type": "code",
   "execution_count": 129,
   "metadata": {
    "scrolled": true
   },
   "outputs": [
    {
     "data": {
      "text/plain": [
       "array([4, 1, 2, 3, 0])"
      ]
     },
     "execution_count": 129,
     "metadata": {},
     "output_type": "execute_result"
    }
   ],
   "source": [
    "fdata['PKT_CLASS']= label_encoder.fit_transform(fdata['PKT_CLASS'])\n",
    "fdata['PKT_CLASS'].unique()"
   ]
  },
  {
   "cell_type": "code",
   "execution_count": 130,
   "metadata": {},
   "outputs": [
    {
     "data": {
      "text/plain": [
       "758701    4\n",
       "5282      1\n",
       "269110    1\n",
       "652271    1\n",
       "439803    1\n",
       "         ..\n",
       "441129    1\n",
       "53863     1\n",
       "185612    1\n",
       "202773    1\n",
       "422081    1\n",
       "Name: PKT_CLASS, Length: 3000, dtype: int32"
      ]
     },
     "execution_count": 130,
     "metadata": {},
     "output_type": "execute_result"
    }
   ],
   "source": [
    "fdata['PKT_CLASS']"
   ]
  },
  {
   "cell_type": "code",
   "execution_count": 131,
   "metadata": {},
   "outputs": [
    {
     "data": {
      "text/plain": [
       "758701    4\n",
       "5282      1\n",
       "269110    1\n",
       "652271    1\n",
       "439803    1\n",
       "         ..\n",
       "441129    1\n",
       "53863     1\n",
       "185612    1\n",
       "202773    1\n",
       "422081    1\n",
       "Name: PKT_CLASS, Length: 3000, dtype: int32"
      ]
     },
     "execution_count": 131,
     "metadata": {},
     "output_type": "execute_result"
    }
   ],
   "source": [
    "fdata['PKT_CLASS']"
   ]
  },
  {
   "cell_type": "code",
   "execution_count": 132,
   "metadata": {},
   "outputs": [
    {
     "data": {
      "text/plain": [
       "758701    4.0\n",
       "5282      1.0\n",
       "269110    1.0\n",
       "652271    1.0\n",
       "439803    1.0\n",
       "         ... \n",
       "441129    1.0\n",
       "53863     1.0\n",
       "185612    1.0\n",
       "202773    1.0\n",
       "422081    1.0\n",
       "Name: PKT_CLASS, Length: 3000, dtype: float64"
      ]
     },
     "execution_count": 132,
     "metadata": {},
     "output_type": "execute_result"
    }
   ],
   "source": [
    "fdata['PKT_CLASS']=fdata['PKT_CLASS'].astype(float)\n",
    "fdata['PKT_CLASS']"
   ]
  },
  {
   "cell_type": "markdown",
   "metadata": {},
   "source": [
    "## Converting to Float"
   ]
  },
  {
   "cell_type": "code",
   "execution_count": 133,
   "metadata": {},
   "outputs": [
    {
     "data": {
      "text/plain": [
       "758701    962.685\n",
       "5282      124.943\n",
       "269110    328.205\n",
       "652271    124.941\n",
       "439803    328.562\n",
       "           ...   \n",
       "441129    124.942\n",
       "53863     328.193\n",
       "185612    328.264\n",
       "202773     328.46\n",
       "422081    328.218\n",
       "Name: PKT_RATE, Length: 3000, dtype: object"
      ]
     },
     "execution_count": 133,
     "metadata": {},
     "output_type": "execute_result"
    }
   ],
   "source": [
    "fdata['PKT_RATE']"
   ]
  },
  {
   "cell_type": "code",
   "execution_count": 134,
   "metadata": {},
   "outputs": [
    {
     "data": {
      "text/plain": [
       "array([962.684973, 124.943426, 328.204637, 124.940628, 328.561918,\n",
       "       1016.496869, 328.20604199999997, 328.217832, 124.942826,\n",
       "       '328.561918', 328.491489, 328.205808, 328.16776699999997,\n",
       "       124.943825, 328.19309, 328.460131, 328.431807, 328.52294700000004,\n",
       "       124.942427, 124.943026, 124.94122800000001, 328.11323,\n",
       "       328.26403999999997, 328.297902, 328.192835, 328.316229, 328.113525,\n",
       "       328.06386200000003, 328.46027799999996, 328.24105099999997,\n",
       "       328.218006, 1016.5491699999999, 328.20485099999996, 1016.424609,\n",
       "       1016.418257, 124.944425, 124.943226, 1016.4372, 328.167486,\n",
       "       94.7212, 328.43200099999996, 328.522879, 656.270166, 124.944225,\n",
       "       '328.491489', 328.491596, 1118.27935, 328.064183, 124.944025,\n",
       "       328.26412, 124.943625, 328.561898, 124.941427, 1016.449678,\n",
       "       124.941827, 124.940828, '328.522947', 1016.5229619999999,\n",
       "       1066.08599, 1016.443439, 124.941028, 328.29785499999997,\n",
       "       124.941627, '124.941827', 95.145988, 124.942626, '1016.443439',\n",
       "       1016.5429300000001, 1016.4308480000001, 124.942227,\n",
       "       1016.5167230000001, 328.240918, 124.942027, '328.240918',\n",
       "       '328.19309', '328.316229', 0.9926370000000001, '328.460131',\n",
       "       7.560447, 658.0904429999999, '328.26404', '328.491596',\n",
       "       '328.431807', 23.041764999999998, '124.941627', 23.255773,\n",
       "       '328.297902', '328.204851', '328.204637', 23.094907, '23.255773',\n",
       "       '328.063862', '124.942427', 23.148296, '328.206042', 0.977958,\n",
       "       23.247339, '328.192835', '328.113525', '328.218006', '328.297855',\n",
       "       '328.432001', 1.0471059999999999, 23.055028, '328.217832',\n",
       "       '328.205808', 0.977957, '1066.08599', '124.940828', '328.460278',\n",
       "       '328.167486', '124.941427', '124.942027', 23.188498000000003,\n",
       "       '328.064183', '328.26412', '658.090443', 23.255775, '328.561898',\n",
       "       '328.11323', 8.323385, '23.255775', '328.167767', '124.943625',\n",
       "       '1016.449678', '124.942826', '1016.4372', '124.942227',\n",
       "       '124.943226', '1016.54917', '95.145988', '328.241051',\n",
       "       '124.940628'], dtype=object)"
      ]
     },
     "execution_count": 134,
     "metadata": {},
     "output_type": "execute_result"
    }
   ],
   "source": [
    "fdata.PKT_RATE.unique()"
   ]
  },
  {
   "cell_type": "code",
   "execution_count": 135,
   "metadata": {},
   "outputs": [
    {
     "data": {
      "text/plain": [
       "758701    962.684973\n",
       "5282      124.943426\n",
       "269110    328.204637\n",
       "652271    124.940628\n",
       "439803    328.561918\n",
       "             ...    \n",
       "441129    124.942027\n",
       "53863     328.192835\n",
       "185612    328.264040\n",
       "202773    328.460278\n",
       "422081    328.217832\n",
       "Name: PKT_RATE, Length: 3000, dtype: float64"
      ]
     },
     "execution_count": 135,
     "metadata": {},
     "output_type": "execute_result"
    }
   ],
   "source": [
    "fdata['PKT_RATE']=fdata['PKT_RATE'].astype(float)\n",
    "fdata['PKT_RATE']"
   ]
  },
  {
   "cell_type": "markdown",
   "metadata": {},
   "source": [
    "## Features"
   ]
  },
  {
   "cell_type": "code",
   "execution_count": 136,
   "metadata": {},
   "outputs": [
    {
     "data": {
      "text/html": [
       "<div>\n",
       "<style scoped>\n",
       "    .dataframe tbody tr th:only-of-type {\n",
       "        vertical-align: middle;\n",
       "    }\n",
       "\n",
       "    .dataframe tbody tr th {\n",
       "        vertical-align: top;\n",
       "    }\n",
       "\n",
       "    .dataframe thead th {\n",
       "        text-align: right;\n",
       "    }\n",
       "</style>\n",
       "<table border=\"1\" class=\"dataframe\">\n",
       "  <thead>\n",
       "    <tr style=\"text-align: right;\">\n",
       "      <th></th>\n",
       "      <th>SRC_ADD</th>\n",
       "      <th>DES_ADD</th>\n",
       "      <th>PKT_ID</th>\n",
       "      <th>FROM_NODE</th>\n",
       "      <th>TO_NODE</th>\n",
       "      <th>PKT_TYPE</th>\n",
       "      <th>PKT_SIZE</th>\n",
       "      <th>FLAGS</th>\n",
       "      <th>FID</th>\n",
       "      <th>PKT_RATE</th>\n",
       "      <th>BYTE_RATE</th>\n",
       "      <th>PKT_AVG_SIZE</th>\n",
       "      <th>UTILIZATION</th>\n",
       "      <th>PKT_DELAY</th>\n",
       "      <th>PKT_SEND_TIME</th>\n",
       "      <th>PKT_RESEVED_TIME</th>\n",
       "      <th>FIRST_PKT_SENT</th>\n",
       "      <th>LAST_PKT_RESEVED</th>\n",
       "    </tr>\n",
       "  </thead>\n",
       "  <tbody>\n",
       "    <tr>\n",
       "      <th>758701</th>\n",
       "      <td>12.20</td>\n",
       "      <td>24.54</td>\n",
       "      <td>21921</td>\n",
       "      <td>23</td>\n",
       "      <td>24</td>\n",
       "      <td>1.0</td>\n",
       "      <td>1500</td>\n",
       "      <td>0.0</td>\n",
       "      <td>33</td>\n",
       "      <td>962.684973</td>\n",
       "      <td>1444030.0</td>\n",
       "      <td>1500.0</td>\n",
       "      <td>0.123811</td>\n",
       "      <td>0.033071</td>\n",
       "      <td>21.420143</td>\n",
       "      <td>21.453214</td>\n",
       "      <td>1.000000</td>\n",
       "      <td>9.990480</td>\n",
       "    </tr>\n",
       "    <tr>\n",
       "      <th>5282</th>\n",
       "      <td>12.10</td>\n",
       "      <td>24.32</td>\n",
       "      <td>592525</td>\n",
       "      <td>22</td>\n",
       "      <td>23</td>\n",
       "      <td>1.0</td>\n",
       "      <td>1000</td>\n",
       "      <td>0.0</td>\n",
       "      <td>33</td>\n",
       "      <td>124.943426</td>\n",
       "      <td>124943.0</td>\n",
       "      <td>1000.0</td>\n",
       "      <td>0.059605</td>\n",
       "      <td>0.000400</td>\n",
       "      <td>55.512000</td>\n",
       "      <td>55.542640</td>\n",
       "      <td>25.000000</td>\n",
       "      <td>75.022640</td>\n",
       "    </tr>\n",
       "    <tr>\n",
       "      <th>269110</th>\n",
       "      <td>5.00</td>\n",
       "      <td>24.50</td>\n",
       "      <td>156294</td>\n",
       "      <td>5</td>\n",
       "      <td>21</td>\n",
       "      <td>3.0</td>\n",
       "      <td>1540</td>\n",
       "      <td>0.0</td>\n",
       "      <td>6</td>\n",
       "      <td>328.204637</td>\n",
       "      <td>505434.0</td>\n",
       "      <td>1540.0</td>\n",
       "      <td>0.236321</td>\n",
       "      <td>0.000000</td>\n",
       "      <td>15.929028</td>\n",
       "      <td>15.959397</td>\n",
       "      <td>1.000000</td>\n",
       "      <td>50.027339</td>\n",
       "    </tr>\n",
       "    <tr>\n",
       "      <th>652271</th>\n",
       "      <td>19.10</td>\n",
       "      <td>24.39</td>\n",
       "      <td>585756</td>\n",
       "      <td>23</td>\n",
       "      <td>24</td>\n",
       "      <td>1.0</td>\n",
       "      <td>1000</td>\n",
       "      <td>0.0</td>\n",
       "      <td>40</td>\n",
       "      <td>124.940628</td>\n",
       "      <td>124941.0</td>\n",
       "      <td>1000.0</td>\n",
       "      <td>0.059605</td>\n",
       "      <td>0.001520</td>\n",
       "      <td>52.816000</td>\n",
       "      <td>52.847760</td>\n",
       "      <td>25.000000</td>\n",
       "      <td>75.023760</td>\n",
       "    </tr>\n",
       "    <tr>\n",
       "      <th>439803</th>\n",
       "      <td>24.10</td>\n",
       "      <td>10.00</td>\n",
       "      <td>364307</td>\n",
       "      <td>24</td>\n",
       "      <td>23</td>\n",
       "      <td>0.0</td>\n",
       "      <td>55</td>\n",
       "      <td>0.0</td>\n",
       "      <td>11</td>\n",
       "      <td>328.561918</td>\n",
       "      <td>18070.9</td>\n",
       "      <td>55.0</td>\n",
       "      <td>0.008446</td>\n",
       "      <td>0.000000</td>\n",
       "      <td>33.572864</td>\n",
       "      <td>33.602874</td>\n",
       "      <td>1.030013</td>\n",
       "      <td>50.040562</td>\n",
       "    </tr>\n",
       "    <tr>\n",
       "      <th>...</th>\n",
       "      <td>...</td>\n",
       "      <td>...</td>\n",
       "      <td>...</td>\n",
       "      <td>...</td>\n",
       "      <td>...</td>\n",
       "      <td>...</td>\n",
       "      <td>...</td>\n",
       "      <td>...</td>\n",
       "      <td>...</td>\n",
       "      <td>...</td>\n",
       "      <td>...</td>\n",
       "      <td>...</td>\n",
       "      <td>...</td>\n",
       "      <td>...</td>\n",
       "      <td>...</td>\n",
       "      <td>...</td>\n",
       "      <td>...</td>\n",
       "      <td>...</td>\n",
       "    </tr>\n",
       "    <tr>\n",
       "      <th>441129</th>\n",
       "      <td>6.10</td>\n",
       "      <td>24.26</td>\n",
       "      <td>586343</td>\n",
       "      <td>6</td>\n",
       "      <td>21</td>\n",
       "      <td>1.0</td>\n",
       "      <td>1000</td>\n",
       "      <td>0.0</td>\n",
       "      <td>27</td>\n",
       "      <td>124.942027</td>\n",
       "      <td>124942.0</td>\n",
       "      <td>1000.0</td>\n",
       "      <td>0.059605</td>\n",
       "      <td>0.000960</td>\n",
       "      <td>53.056000</td>\n",
       "      <td>53.087200</td>\n",
       "      <td>25.000000</td>\n",
       "      <td>75.023200</td>\n",
       "    </tr>\n",
       "    <tr>\n",
       "      <th>53863</th>\n",
       "      <td>6.00</td>\n",
       "      <td>24.60</td>\n",
       "      <td>539099</td>\n",
       "      <td>21</td>\n",
       "      <td>23</td>\n",
       "      <td>3.0</td>\n",
       "      <td>1540</td>\n",
       "      <td>0.0</td>\n",
       "      <td>7</td>\n",
       "      <td>328.192835</td>\n",
       "      <td>505416.0</td>\n",
       "      <td>1540.0</td>\n",
       "      <td>0.236321</td>\n",
       "      <td>0.000124</td>\n",
       "      <td>46.979472</td>\n",
       "      <td>47.009965</td>\n",
       "      <td>1.000000</td>\n",
       "      <td>50.029102</td>\n",
       "    </tr>\n",
       "    <tr>\n",
       "      <th>185612</th>\n",
       "      <td>2.00</td>\n",
       "      <td>24.20</td>\n",
       "      <td>195349</td>\n",
       "      <td>2</td>\n",
       "      <td>21</td>\n",
       "      <td>3.0</td>\n",
       "      <td>1540</td>\n",
       "      <td>0.0</td>\n",
       "      <td>3</td>\n",
       "      <td>328.264040</td>\n",
       "      <td>505526.0</td>\n",
       "      <td>1540.0</td>\n",
       "      <td>0.236321</td>\n",
       "      <td>0.000000</td>\n",
       "      <td>19.605427</td>\n",
       "      <td>19.635797</td>\n",
       "      <td>1.000000</td>\n",
       "      <td>50.018467</td>\n",
       "    </tr>\n",
       "    <tr>\n",
       "      <th>202773</th>\n",
       "      <td>24.13</td>\n",
       "      <td>13.00</td>\n",
       "      <td>68748</td>\n",
       "      <td>24</td>\n",
       "      <td>23</td>\n",
       "      <td>0.0</td>\n",
       "      <td>55</td>\n",
       "      <td>0.0</td>\n",
       "      <td>14</td>\n",
       "      <td>328.460278</td>\n",
       "      <td>18065.3</td>\n",
       "      <td>55.0</td>\n",
       "      <td>0.008446</td>\n",
       "      <td>0.000000</td>\n",
       "      <td>7.681331</td>\n",
       "      <td>7.711341</td>\n",
       "      <td>1.030032</td>\n",
       "      <td>50.055747</td>\n",
       "    </tr>\n",
       "    <tr>\n",
       "      <th>422081</th>\n",
       "      <td>4.00</td>\n",
       "      <td>24.40</td>\n",
       "      <td>72956</td>\n",
       "      <td>4</td>\n",
       "      <td>21</td>\n",
       "      <td>3.0</td>\n",
       "      <td>1540</td>\n",
       "      <td>0.0</td>\n",
       "      <td>5</td>\n",
       "      <td>328.217832</td>\n",
       "      <td>505455.0</td>\n",
       "      <td>1540.0</td>\n",
       "      <td>0.236321</td>\n",
       "      <td>0.000000</td>\n",
       "      <td>8.079406</td>\n",
       "      <td>8.109776</td>\n",
       "      <td>1.000000</td>\n",
       "      <td>50.025368</td>\n",
       "    </tr>\n",
       "  </tbody>\n",
       "</table>\n",
       "<p>3000 rows × 18 columns</p>\n",
       "</div>"
      ],
      "text/plain": [
       "        SRC_ADD  DES_ADD  PKT_ID  FROM_NODE  TO_NODE  PKT_TYPE  PKT_SIZE  \\\n",
       "758701    12.20    24.54   21921         23       24       1.0      1500   \n",
       "5282      12.10    24.32  592525         22       23       1.0      1000   \n",
       "269110     5.00    24.50  156294          5       21       3.0      1540   \n",
       "652271    19.10    24.39  585756         23       24       1.0      1000   \n",
       "439803    24.10    10.00  364307         24       23       0.0        55   \n",
       "...         ...      ...     ...        ...      ...       ...       ...   \n",
       "441129     6.10    24.26  586343          6       21       1.0      1000   \n",
       "53863      6.00    24.60  539099         21       23       3.0      1540   \n",
       "185612     2.00    24.20  195349          2       21       3.0      1540   \n",
       "202773    24.13    13.00   68748         24       23       0.0        55   \n",
       "422081     4.00    24.40   72956          4       21       3.0      1540   \n",
       "\n",
       "        FLAGS  FID    PKT_RATE  BYTE_RATE  PKT_AVG_SIZE  UTILIZATION  \\\n",
       "758701    0.0   33  962.684973  1444030.0        1500.0     0.123811   \n",
       "5282      0.0   33  124.943426   124943.0        1000.0     0.059605   \n",
       "269110    0.0    6  328.204637   505434.0        1540.0     0.236321   \n",
       "652271    0.0   40  124.940628   124941.0        1000.0     0.059605   \n",
       "439803    0.0   11  328.561918    18070.9          55.0     0.008446   \n",
       "...       ...  ...         ...        ...           ...          ...   \n",
       "441129    0.0   27  124.942027   124942.0        1000.0     0.059605   \n",
       "53863     0.0    7  328.192835   505416.0        1540.0     0.236321   \n",
       "185612    0.0    3  328.264040   505526.0        1540.0     0.236321   \n",
       "202773    0.0   14  328.460278    18065.3          55.0     0.008446   \n",
       "422081    0.0    5  328.217832   505455.0        1540.0     0.236321   \n",
       "\n",
       "        PKT_DELAY  PKT_SEND_TIME  PKT_RESEVED_TIME  FIRST_PKT_SENT  \\\n",
       "758701   0.033071      21.420143         21.453214        1.000000   \n",
       "5282     0.000400      55.512000         55.542640       25.000000   \n",
       "269110   0.000000      15.929028         15.959397        1.000000   \n",
       "652271   0.001520      52.816000         52.847760       25.000000   \n",
       "439803   0.000000      33.572864         33.602874        1.030013   \n",
       "...           ...            ...               ...             ...   \n",
       "441129   0.000960      53.056000         53.087200       25.000000   \n",
       "53863    0.000124      46.979472         47.009965        1.000000   \n",
       "185612   0.000000      19.605427         19.635797        1.000000   \n",
       "202773   0.000000       7.681331          7.711341        1.030032   \n",
       "422081   0.000000       8.079406          8.109776        1.000000   \n",
       "\n",
       "        LAST_PKT_RESEVED  \n",
       "758701          9.990480  \n",
       "5282           75.022640  \n",
       "269110         50.027339  \n",
       "652271         75.023760  \n",
       "439803         50.040562  \n",
       "...                  ...  \n",
       "441129         75.023200  \n",
       "53863          50.029102  \n",
       "185612         50.018467  \n",
       "202773         50.055747  \n",
       "422081         50.025368  \n",
       "\n",
       "[3000 rows x 18 columns]"
      ]
     },
     "execution_count": 136,
     "metadata": {},
     "output_type": "execute_result"
    }
   ],
   "source": [
    "X=fdata.iloc[0:26]\n",
    "X=fdata.drop(['PKT_CLASS'],axis=1)\n",
    "X"
   ]
  },
  {
   "cell_type": "markdown",
   "metadata": {},
   "source": [
    "## Setting Target"
   ]
  },
  {
   "cell_type": "code",
   "execution_count": 137,
   "metadata": {},
   "outputs": [
    {
     "data": {
      "text/plain": [
       "758701    4.0\n",
       "5282      1.0\n",
       "269110    1.0\n",
       "652271    1.0\n",
       "439803    1.0\n",
       "         ... \n",
       "441129    1.0\n",
       "53863     1.0\n",
       "185612    1.0\n",
       "202773    1.0\n",
       "422081    1.0\n",
       "Name: PKT_CLASS, Length: 3000, dtype: float64"
      ]
     },
     "execution_count": 137,
     "metadata": {},
     "output_type": "execute_result"
    }
   ],
   "source": [
    "Y=fdata['PKT_CLASS']\n",
    "Y"
   ]
  },
  {
   "cell_type": "markdown",
   "metadata": {},
   "source": [
    "pip install streamlit"
   ]
  },
  {
   "cell_type": "markdown",
   "metadata": {},
   "source": [
    "## Training and Testing"
   ]
  },
  {
   "cell_type": "code",
   "execution_count": 138,
   "metadata": {},
   "outputs": [],
   "source": [
    "from sklearn.model_selection import train_test_split\n",
    "X_train,X_test,Y_train,Y_test =train_test_split(X,Y,stratify=Y,test_size=0.20,random_state=3)"
   ]
  },
  {
   "cell_type": "markdown",
   "metadata": {},
   "source": [
    "## KNN Classifier"
   ]
  },
  {
   "cell_type": "code",
   "execution_count": 139,
   "metadata": {},
   "outputs": [],
   "source": [
    "from sklearn.neighbors import KNeighborsClassifier\n",
    "knn = KNeighborsClassifier(n_neighbors = 8).fit(X_train, Y_train)"
   ]
  },
  {
   "cell_type": "markdown",
   "metadata": {},
   "source": [
    "## Confusion matrix and Accuracy"
   ]
  },
  {
   "cell_type": "code",
   "execution_count": 140,
   "metadata": {},
   "outputs": [
    {
     "name": "stdout",
     "output_type": "stream",
     "text": [
      "[[  0   1   0   0   0]\n",
      " [  0 537   0   0   0]\n",
      " [  0   1   0   0   0]\n",
      " [  0   3   0   0   0]\n",
      " [  0   6   0   0  52]]\n"
     ]
    }
   ],
   "source": [
    "from sklearn.metrics import confusion_matrix, classification_report\n",
    "knn_predictions = knn.predict(X_test)\n",
    "cm = confusion_matrix(Y_test, knn_predictions)\n",
    "print(cm)"
   ]
  },
  {
   "cell_type": "code",
   "execution_count": 141,
   "metadata": {},
   "outputs": [
    {
     "name": "stdout",
     "output_type": "stream",
     "text": [
      "0.9816666666666667\n"
     ]
    }
   ],
   "source": [
    "accuracy = knn.score(X_test, Y_test)\n",
    "print (accuracy)"
   ]
  },
  {
   "cell_type": "markdown",
   "metadata": {},
   "source": [
    "from sklearn.metrics import accuracy_score\n",
    "st.subheader('Model Test Accuracy Score: ')\n",
    "st.write(str(accuracy_score(Y_test, knn_predictions)*100)+'%')\n",
    "#print ('Accuracy Score :',accuracy_score(Y_test, knn_predictions))\n",
    "#prediction = knn_predictions(user_input)"
   ]
  },
  {
   "cell_type": "code",
   "execution_count": 142,
   "metadata": {},
   "outputs": [],
   "source": [
    "#streamlit run \"C:\\Users\\sravani\\OneDrive\\Desktop\\DDOS\""
   ]
  },
  {
   "cell_type": "code",
   "execution_count": 143,
   "metadata": {},
   "outputs": [
    {
     "name": "stdout",
     "output_type": "stream",
     "text": [
      "Package                            Version\n",
      "---------------------------------- -------------------\n",
      "alabaster                          0.7.12\n",
      "altair                             4.2.0\n",
      "anaconda-client                    1.7.2\n",
      "anaconda-navigator                 1.9.12\n",
      "anaconda-project                   0.8.3\n",
      "anyio                              3.5.0\n",
      "argh                               0.26.2\n",
      "argon2-cffi                        21.3.0\n",
      "argon2-cffi-bindings               21.2.0\n",
      "asn1crypto                         1.3.0\n",
      "astor                              0.8.1\n",
      "astroid                            2.4.2\n",
      "astropy                            4.0.1.post1\n",
      "atomicwrites                       1.4.0\n",
      "attrs                              19.3.0\n",
      "autopep8                           1.5.3\n",
      "Babel                              2.8.0\n",
      "backcall                           0.2.0\n",
      "backports.functools-lru-cache      1.6.1\n",
      "backports.shutil-get-terminal-size 1.0.0\n",
      "backports.tempfile                 1.0\n",
      "backports.weakref                  1.0.post1\n",
      "backports.zoneinfo                 0.2.1\n",
      "base58                             2.1.1\n",
      "bcrypt                             3.1.7\n",
      "beautifulsoup4                     4.9.1\n",
      "bitarray                           1.4.0\n",
      "bkcharts                           0.2\n",
      "bleach                             3.1.5\n",
      "blinker                            1.4\n",
      "bokeh                              2.1.1\n",
      "boto                               2.49.0\n",
      "Bottleneck                         1.3.2\n",
      "brotlipy                           0.7.0\n",
      "cachetools                         5.0.0\n",
      "certifi                            2020.6.20\n",
      "cffi                               1.14.0\n",
      "chardet                            3.0.4\n",
      "click                              7.1.2\n",
      "cloudpickle                        1.5.0\n",
      "clyent                             1.2.2\n",
      "colorama                           0.4.3\n",
      "comtypes                           1.1.7\n",
      "conda                              4.10.1\n",
      "conda-build                        3.18.11\n",
      "conda-package-handling             1.7.0\n",
      "conda-verify                       3.4.2\n",
      "contextlib2                        0.6.0.post1\n",
      "cryptography                       2.9.2\n",
      "cycler                             0.10.0\n",
      "Cython                             0.29.21\n",
      "cytoolz                            0.10.1\n",
      "dask                               2.20.0\n",
      "decorator                          4.4.2\n",
      "defusedxml                         0.6.0\n",
      "diff-match-patch                   20200713\n",
      "distributed                        2.20.0\n",
      "docutils                           0.16\n",
      "entrypoints                        0.3\n",
      "et-xmlfile                         1.0.1\n",
      "fastcache                          1.1.0\n",
      "filelock                           3.0.12\n",
      "flake8                             3.8.3\n",
      "Flask                              1.1.2\n",
      "Flask-MySQLdb                      0.2.0\n",
      "fsspec                             0.7.4\n",
      "future                             0.18.2\n",
      "gevent                             20.6.2\n",
      "gitdb                              4.0.9\n",
      "GitPython                          3.1.27\n",
      "glob2                              0.7\n",
      "gmpy2                              2.0.8\n",
      "greenlet                           0.4.16\n",
      "h5py                               2.10.0\n",
      "HeapDict                           1.0.1\n",
      "html5lib                           1.1\n",
      "idna                               2.10\n",
      "imageio                            2.9.0\n",
      "imagesize                          1.2.0\n",
      "importlib-metadata                 1.7.0\n",
      "intervaltree                       3.0.2\n",
      "ipykernel                          5.3.2\n",
      "ipython                            7.16.1\n",
      "ipython-genutils                   0.2.0\n",
      "ipywidgets                         7.5.1\n",
      "isort                              4.3.21\n",
      "itsdangerous                       1.1.0\n",
      "jdcal                              1.4.1\n",
      "jedi                               0.17.1\n",
      "Jinja2                             2.11.2\n",
      "joblib                             0.16.0\n",
      "json5                              0.9.5\n",
      "jsonschema                         3.2.0\n",
      "jupyter                            1.0.0\n",
      "jupyter-client                     6.1.6\n",
      "jupyter-console                    6.1.0\n",
      "jupyter-core                       4.6.3\n",
      "jupyter-server                     1.13.5\n",
      "jupyterlab                         2.1.5\n",
      "jupyterlab-pygments                0.1.2\n",
      "jupyterlab-server                  2.10.3\n",
      "keyring                            21.2.1\n",
      "kiwisolver                         1.2.0\n",
      "lazy-object-proxy                  1.4.3\n",
      "libarchive-c                       2.9\n",
      "llvmlite                           0.33.0+1.g022ab0f\n",
      "locket                             0.2.0\n",
      "lxml                               4.5.2\n",
      "MarkupSafe                         1.1.1\n",
      "matplotlib                         3.2.2\n",
      "mccabe                             0.6.1\n",
      "menuinst                           1.4.16\n",
      "mistune                            0.8.4\n",
      "mkl-fft                            1.1.0\n",
      "mkl-random                         1.1.1\n",
      "mkl-service                        2.3.0\n",
      "mock                               4.0.2\n",
      "more-itertools                     8.4.0\n",
      "mpmath                             1.1.0\n",
      "msgpack                            1.0.0\n",
      "multipledispatch                   0.6.0\n",
      "mysqlclient                        2.0.3\n",
      "navigator-updater                  0.2.1\n",
      "nbclient                           0.5.11\n",
      "nbconvert                          6.4.2\n",
      "nbformat                           5.0.7\n",
      "nest-asyncio                       1.5.4\n",
      "networkx                           2.4\n",
      "nltk                               3.5\n",
      "nose                               1.3.7\n",
      "notebook                           6.0.3\n",
      "numba                              0.50.1\n",
      "numexpr                            2.7.1\n",
      "numpy                              1.18.5\n",
      "numpydoc                           1.1.0\n",
      "olefile                            0.46\n",
      "opencv-python                      4.5.3.56\n",
      "openpyxl                           3.0.4\n",
      "packaging                          20.4\n",
      "pandas                             1.0.5\n",
      "pandocfilters                      1.4.2\n",
      "paramiko                           2.7.1\n",
      "parso                              0.7.0\n",
      "partd                              1.1.0\n",
      "path                               13.1.0\n",
      "pathlib2                           2.3.5\n",
      "pathtools                          0.1.2\n",
      "patsy                              0.5.1\n",
      "pep8                               1.7.1\n",
      "pexpect                            4.8.0\n",
      "pickleshare                        0.7.5\n",
      "Pillow                             7.2.0\n",
      "pip                                20.1.1\n",
      "pkginfo                            1.5.0.1\n",
      "pluggy                             0.13.1\n",
      "ply                                3.11\n",
      "prometheus-client                  0.8.0\n",
      "prompt-toolkit                     3.0.5\n",
      "protobuf                           3.19.4\n",
      "psutil                             5.7.0\n",
      "py                                 1.9.0\n",
      "pyarrow                            7.0.0\n",
      "pycodestyle                        2.6.0\n",
      "pycosat                            0.6.3\n",
      "pycparser                          2.20\n",
      "pycurl                             7.43.0.5\n",
      "pydeck                             0.7.1\n",
      "pydocstyle                         5.0.2\n",
      "pydotplus                          2.0.2\n",
      "pyflakes                           2.2.0\n",
      "Pygments                           2.6.1\n",
      "pylint                             2.5.3\n",
      "Pympler                            1.0.1\n",
      "PyNaCl                             1.4.0\n",
      "pyodbc                             4.0.0-unsupported\n",
      "pyOpenSSL                          19.1.0\n",
      "pyparsing                          2.4.7\n",
      "pyreadline                         2.1\n",
      "pyrsistent                         0.16.0\n",
      "PySocks                            1.7.1\n",
      "pytest                             5.4.3\n",
      "python-dateutil                    2.8.1\n",
      "python-jsonrpc-server              0.3.4\n",
      "python-language-server             0.34.1\n",
      "pytz                               2020.1\n",
      "pytz-deprecation-shim              0.1.0.post0\n",
      "PyWavelets                         1.1.1\n",
      "pywin32                            227\n",
      "pywin32-ctypes                     0.2.0\n",
      "pywinpty                           0.5.7\n",
      "PyYAML                             5.3.1\n",
      "pyzmq                              19.0.1\n",
      "QDarkStyle                         2.8.1\n",
      "QtAwesome                          0.7.2\n",
      "qtconsole                          4.7.5\n",
      "QtPy                               1.9.0\n",
      "regex                              2020.6.8\n",
      "requests                           2.24.0\n",
      "rope                               0.17.0\n",
      "Rtree                              0.9.4\n",
      "ruamel-yaml                        0.15.87\n",
      "scikit-image                       0.16.2\n",
      "scikit-learn                       0.23.1\n",
      "scipy                              1.5.0\n",
      "seaborn                            0.10.1\n",
      "Send2Trash                         1.5.0\n",
      "setuptools                         49.2.0.post20200714\n",
      "simplegeneric                      0.8.1\n",
      "singledispatch                     3.4.0.3\n",
      "sip                                4.19.13\n",
      "six                                1.15.0\n",
      "smmap                              5.0.0\n",
      "sniffio                            1.2.0\n",
      "snowballstemmer                    2.0.0\n",
      "sortedcollections                  1.2.1\n",
      "sortedcontainers                   2.2.2\n",
      "soupsieve                          2.0.1\n",
      "Sphinx                             3.1.2\n",
      "sphinxcontrib-applehelp            1.0.2\n",
      "sphinxcontrib-devhelp              1.0.2\n",
      "sphinxcontrib-htmlhelp             1.0.3\n",
      "sphinxcontrib-jsmath               1.0.1\n",
      "sphinxcontrib-qthelp               1.0.3\n",
      "sphinxcontrib-serializinghtml      1.1.4\n",
      "sphinxcontrib-websupport           1.2.3\n",
      "spyder                             4.1.4\n",
      "spyder-kernels                     1.9.2\n",
      "SQLAlchemy                         1.3.18\n",
      "statsmodels                        0.11.1\n",
      "streamlit                          1.5.1\n",
      "sympy                              1.6.1\n",
      "tables                             3.6.1\n",
      "tblib                              1.6.0\n",
      "terminado                          0.8.3\n",
      "testpath                           0.4.4\n",
      "threadpoolctl                      2.1.0\n",
      "toml                               0.10.1\n",
      "toolz                              0.10.0\n",
      "tornado                            6.0.4\n",
      "tqdm                               4.47.0\n",
      "traitlets                          5.1.1\n",
      "typing-extensions                  3.7.4.2\n",
      "tzdata                             2021.5\n",
      "tzlocal                            4.1\n",
      "ujson                              1.35\n",
      "unicodecsv                         0.14.1\n",
      "urllib3                            1.25.9\n",
      "validators                         0.18.2\n",
      "voila                              0.3.2\n",
      "watchdog                           0.10.3\n",
      "wcwidth                            0.2.5\n",
      "webencodings                       0.5.1\n",
      "websocket-client                   1.3.1\n",
      "websockets                         10.2\n",
      "Werkzeug                           1.0.1\n",
      "wheel                              0.34.2\n",
      "widgetsnbextension                 3.5.1\n",
      "win-inet-pton                      1.1.0\n",
      "win-unicode-console                0.5\n",
      "wincertstore                       0.2\n",
      "wrapt                              1.11.2\n",
      "xlrd                               1.2.0\n",
      "XlsxWriter                         1.2.9\n",
      "xlwings                            0.19.5\n",
      "xlwt                               1.3.0\n",
      "xmltodict                          0.12.0\n",
      "yapf                               0.30.0\n",
      "zict                               2.0.0\n",
      "zipp                               3.1.0\n",
      "zope.event                         4.4\n",
      "zope.interface                     4.7.1\n"
     ]
    }
   ],
   "source": [
    "!pip list"
   ]
  },
  {
   "cell_type": "code",
   "execution_count": null,
   "metadata": {},
   "outputs": [],
   "source": []
  },
  {
   "cell_type": "code",
   "execution_count": null,
   "metadata": {},
   "outputs": [],
   "source": []
  },
  {
   "cell_type": "code",
   "execution_count": null,
   "metadata": {},
   "outputs": [],
   "source": []
  },
  {
   "cell_type": "code",
   "execution_count": null,
   "metadata": {},
   "outputs": [],
   "source": []
  },
  {
   "cell_type": "code",
   "execution_count": null,
   "metadata": {},
   "outputs": [],
   "source": []
  },
  {
   "cell_type": "markdown",
   "metadata": {},
   "source": [
    "# **FRONT-END**"
   ]
  },
  {
   "cell_type": "code",
   "execution_count": 144,
   "metadata": {},
   "outputs": [],
   "source": [
    "import warnings\n",
    "warnings.filterwarnings('ignore')\n",
    "\n",
    "import ipywidgets as widgets\n",
    "from IPython.display import display, clear_output"
   ]
  },
  {
   "cell_type": "code",
   "execution_count": 145,
   "metadata": {},
   "outputs": [],
   "source": [
    "#!jupyter nbextension enable --py widgetsnbextension --sys-prefix\n",
    "#!jupyter serverextension enable voila --sys-prefix"
   ]
  },
  {
   "cell_type": "code",
   "execution_count": 146,
   "metadata": {},
   "outputs": [],
   "source": [
    "# Image Widget\n",
    "\n",
    "file = open(\"ddos.jpg\", \"rb\")\n",
    "image = file.read()\n",
    "\n",
    "image_headline = widgets.Image(\n",
    "                    value=image,\n",
    "                    format='jpg',\n",
    "                    height='300',\n",
    "                    width='300'\n",
    "                )\n",
    "\n",
    "label_headline = widgets.Label(\n",
    "                    #value='Photo by CDC on Unsplash',\n",
    "                    style={'description_width': 'initial'}\n",
    "                )\n",
    "\n",
    "vbox_headline = widgets.VBox([image_headline, label_headline])"
   ]
  },
  {
   "cell_type": "code",
   "execution_count": 147,
   "metadata": {},
   "outputs": [],
   "source": [
    "\n",
    "grand = widgets.ToggleButtons(\n",
    "            options=['Enter Website URL' ]\n",
    "        )"
   ]
  },
  {
   "cell_type": "code",
   "execution_count": 148,
   "metadata": {},
   "outputs": [],
   "source": [
    "name = widgets.Text(placeholder='Enter URL')"
   ]
  },
  {
   "cell_type": "code",
   "execution_count": 149,
   "metadata": {},
   "outputs": [],
   "source": [
    "\n",
    "\n",
    "srcid = widgets.IntSlider(\n",
    "            value=3, # default value\n",
    "            min=0, \n",
    "            max=20,\n",
    "            step=1.5,\n",
    "            style={'description_width': 'initial', 'handle_color': '#16a085'} \n",
    "        )\n",
    "\n",
    "desid = widgets.IntSlider(\n",
    "            value=0, # default value\n",
    "            min=0, \n",
    "            max=30,\n",
    "            step=1.5,\n",
    "            style={'description_width': 'initial', 'handle_color': '#16a085'} \n",
    "        )"
   ]
  },
  {
   "cell_type": "code",
   "execution_count": 150,
   "metadata": {},
   "outputs": [],
   "source": [
    "# button send\n",
    "\n",
    "button_send = widgets.Button(\n",
    "                description='SUBMIT',\n",
    "                tooltip='Send',\n",
    "                style={'description_width': 'initial'}\n",
    "            )\n",
    "\n",
    "output = widgets.Output()\n",
    "\n",
    "def on_button_clicked(event):\n",
    "    with output:\n",
    "        clear_output()\n",
    "        print(\"Sent message: \")\n",
    "        print(f\"User {grand.value}, {name.value}.\")\n",
    "        \n",
    "        print(f\"SourceId is {srcid.value}\")\n",
    "        print(f\"DestinationId is {desid.value}\")\n",
    "        print(f\"DDOS Attack Detected\")\n",
    "        print(f\"Would you like to continue or exit\")\n",
    "\n",
    "button_send.on_click(on_button_clicked)\n",
    "\n",
    "vbox_result = widgets.VBox([button_send, output])"
   ]
  },
  {
   "cell_type": "code",
   "execution_count": 151,
   "metadata": {},
   "outputs": [],
   "source": [
    "text_0 = widgets.HTML(value=\"<h1>DDOS ATTACK DETECTION!</h1>\")\n",
    "text_1 = widgets.HTML(value=\"<h2>Enter URL</h2>\")\n",
    "text_2 = widgets.HTML(value=\"<h3>Enter SourceID</h3>\")\n",
    "text_3 = widgets.HTML(value=\"<h3>Enter DestinationID</h3>\")\n",
    "vbox_text = widgets.VBox([text_0, text_1, grand, name, text_2,srcid,text_3,desid,vbox_result])"
   ]
  },
  {
   "cell_type": "code",
   "execution_count": 152,
   "metadata": {
    "scrolled": false
   },
   "outputs": [
    {
     "data": {
      "application/vnd.jupyter.widget-view+json": {
       "model_id": "bb135d8a2d6c42098ed25e148ba1a61d",
       "version_major": 2,
       "version_minor": 0
      },
      "text/plain": [
       "HBox(children=(VBox(children=(Image(value=b'\\xff\\xd8\\xff\\xe0\\x00\\x10JFIF\\x00\\x01\\x01\\x00\\x00\\x01\\x00\\x01\\x00\\x…"
      ]
     },
     "metadata": {},
     "output_type": "display_data"
    }
   ],
   "source": [
    "page = widgets.HBox([vbox_headline, vbox_text])\n",
    "display(page)"
   ]
  },
  {
   "cell_type": "code",
   "execution_count": null,
   "metadata": {},
   "outputs": [],
   "source": []
  },
  {
   "cell_type": "code",
   "execution_count": null,
   "metadata": {},
   "outputs": [],
   "source": []
  },
  {
   "cell_type": "code",
   "execution_count": null,
   "metadata": {},
   "outputs": [],
   "source": []
  },
  {
   "cell_type": "code",
   "execution_count": null,
   "metadata": {},
   "outputs": [],
   "source": []
  },
  {
   "cell_type": "code",
   "execution_count": null,
   "metadata": {},
   "outputs": [],
   "source": []
  },
  {
   "cell_type": "code",
   "execution_count": null,
   "metadata": {},
   "outputs": [],
   "source": []
  },
  {
   "cell_type": "code",
   "execution_count": null,
   "metadata": {},
   "outputs": [],
   "source": []
  },
  {
   "cell_type": "code",
   "execution_count": 153,
   "metadata": {},
   "outputs": [],
   "source": [
    "### overfitting and underfitting"
   ]
  },
  {
   "cell_type": "code",
   "execution_count": 154,
   "metadata": {},
   "outputs": [
    {
     "data": {
      "text/html": [
       "<div>\n",
       "<style scoped>\n",
       "    .dataframe tbody tr th:only-of-type {\n",
       "        vertical-align: middle;\n",
       "    }\n",
       "\n",
       "    .dataframe tbody tr th {\n",
       "        vertical-align: top;\n",
       "    }\n",
       "\n",
       "    .dataframe thead th {\n",
       "        text-align: right;\n",
       "    }\n",
       "</style>\n",
       "<table border=\"1\" class=\"dataframe\">\n",
       "  <thead>\n",
       "    <tr style=\"text-align: right;\">\n",
       "      <th></th>\n",
       "      <th>SRC_ADD</th>\n",
       "      <th>DES_ADD</th>\n",
       "      <th>PKT_ID</th>\n",
       "      <th>FROM_NODE</th>\n",
       "      <th>TO_NODE</th>\n",
       "      <th>PKT_TYPE</th>\n",
       "      <th>PKT_SIZE</th>\n",
       "      <th>FLAGS</th>\n",
       "      <th>FID</th>\n",
       "      <th>PKT_RATE</th>\n",
       "      <th>BYTE_RATE</th>\n",
       "      <th>PKT_AVG_SIZE</th>\n",
       "      <th>UTILIZATION</th>\n",
       "      <th>PKT_DELAY</th>\n",
       "      <th>PKT_SEND_TIME</th>\n",
       "      <th>PKT_RESEVED_TIME</th>\n",
       "      <th>FIRST_PKT_SENT</th>\n",
       "      <th>LAST_PKT_RESEVED</th>\n",
       "    </tr>\n",
       "  </thead>\n",
       "  <tbody>\n",
       "    <tr>\n",
       "      <th>758701</th>\n",
       "      <td>12.20</td>\n",
       "      <td>24.54</td>\n",
       "      <td>21921</td>\n",
       "      <td>23</td>\n",
       "      <td>24</td>\n",
       "      <td>1.0</td>\n",
       "      <td>1500</td>\n",
       "      <td>0.0</td>\n",
       "      <td>33</td>\n",
       "      <td>962.684973</td>\n",
       "      <td>1444030.0</td>\n",
       "      <td>1500.0</td>\n",
       "      <td>0.123811</td>\n",
       "      <td>0.033071</td>\n",
       "      <td>21.420143</td>\n",
       "      <td>21.453214</td>\n",
       "      <td>1.000000</td>\n",
       "      <td>9.990480</td>\n",
       "    </tr>\n",
       "    <tr>\n",
       "      <th>5282</th>\n",
       "      <td>12.10</td>\n",
       "      <td>24.32</td>\n",
       "      <td>592525</td>\n",
       "      <td>22</td>\n",
       "      <td>23</td>\n",
       "      <td>1.0</td>\n",
       "      <td>1000</td>\n",
       "      <td>0.0</td>\n",
       "      <td>33</td>\n",
       "      <td>124.943426</td>\n",
       "      <td>124943.0</td>\n",
       "      <td>1000.0</td>\n",
       "      <td>0.059605</td>\n",
       "      <td>0.000400</td>\n",
       "      <td>55.512000</td>\n",
       "      <td>55.542640</td>\n",
       "      <td>25.000000</td>\n",
       "      <td>75.022640</td>\n",
       "    </tr>\n",
       "    <tr>\n",
       "      <th>269110</th>\n",
       "      <td>5.00</td>\n",
       "      <td>24.50</td>\n",
       "      <td>156294</td>\n",
       "      <td>5</td>\n",
       "      <td>21</td>\n",
       "      <td>3.0</td>\n",
       "      <td>1540</td>\n",
       "      <td>0.0</td>\n",
       "      <td>6</td>\n",
       "      <td>328.204637</td>\n",
       "      <td>505434.0</td>\n",
       "      <td>1540.0</td>\n",
       "      <td>0.236321</td>\n",
       "      <td>0.000000</td>\n",
       "      <td>15.929028</td>\n",
       "      <td>15.959397</td>\n",
       "      <td>1.000000</td>\n",
       "      <td>50.027339</td>\n",
       "    </tr>\n",
       "    <tr>\n",
       "      <th>652271</th>\n",
       "      <td>19.10</td>\n",
       "      <td>24.39</td>\n",
       "      <td>585756</td>\n",
       "      <td>23</td>\n",
       "      <td>24</td>\n",
       "      <td>1.0</td>\n",
       "      <td>1000</td>\n",
       "      <td>0.0</td>\n",
       "      <td>40</td>\n",
       "      <td>124.940628</td>\n",
       "      <td>124941.0</td>\n",
       "      <td>1000.0</td>\n",
       "      <td>0.059605</td>\n",
       "      <td>0.001520</td>\n",
       "      <td>52.816000</td>\n",
       "      <td>52.847760</td>\n",
       "      <td>25.000000</td>\n",
       "      <td>75.023760</td>\n",
       "    </tr>\n",
       "    <tr>\n",
       "      <th>439803</th>\n",
       "      <td>24.10</td>\n",
       "      <td>10.00</td>\n",
       "      <td>364307</td>\n",
       "      <td>24</td>\n",
       "      <td>23</td>\n",
       "      <td>0.0</td>\n",
       "      <td>55</td>\n",
       "      <td>0.0</td>\n",
       "      <td>11</td>\n",
       "      <td>328.561918</td>\n",
       "      <td>18070.9</td>\n",
       "      <td>55.0</td>\n",
       "      <td>0.008446</td>\n",
       "      <td>0.000000</td>\n",
       "      <td>33.572864</td>\n",
       "      <td>33.602874</td>\n",
       "      <td>1.030013</td>\n",
       "      <td>50.040562</td>\n",
       "    </tr>\n",
       "    <tr>\n",
       "      <th>...</th>\n",
       "      <td>...</td>\n",
       "      <td>...</td>\n",
       "      <td>...</td>\n",
       "      <td>...</td>\n",
       "      <td>...</td>\n",
       "      <td>...</td>\n",
       "      <td>...</td>\n",
       "      <td>...</td>\n",
       "      <td>...</td>\n",
       "      <td>...</td>\n",
       "      <td>...</td>\n",
       "      <td>...</td>\n",
       "      <td>...</td>\n",
       "      <td>...</td>\n",
       "      <td>...</td>\n",
       "      <td>...</td>\n",
       "      <td>...</td>\n",
       "      <td>...</td>\n",
       "    </tr>\n",
       "    <tr>\n",
       "      <th>441129</th>\n",
       "      <td>6.10</td>\n",
       "      <td>24.26</td>\n",
       "      <td>586343</td>\n",
       "      <td>6</td>\n",
       "      <td>21</td>\n",
       "      <td>1.0</td>\n",
       "      <td>1000</td>\n",
       "      <td>0.0</td>\n",
       "      <td>27</td>\n",
       "      <td>124.942027</td>\n",
       "      <td>124942.0</td>\n",
       "      <td>1000.0</td>\n",
       "      <td>0.059605</td>\n",
       "      <td>0.000960</td>\n",
       "      <td>53.056000</td>\n",
       "      <td>53.087200</td>\n",
       "      <td>25.000000</td>\n",
       "      <td>75.023200</td>\n",
       "    </tr>\n",
       "    <tr>\n",
       "      <th>53863</th>\n",
       "      <td>6.00</td>\n",
       "      <td>24.60</td>\n",
       "      <td>539099</td>\n",
       "      <td>21</td>\n",
       "      <td>23</td>\n",
       "      <td>3.0</td>\n",
       "      <td>1540</td>\n",
       "      <td>0.0</td>\n",
       "      <td>7</td>\n",
       "      <td>328.192835</td>\n",
       "      <td>505416.0</td>\n",
       "      <td>1540.0</td>\n",
       "      <td>0.236321</td>\n",
       "      <td>0.000124</td>\n",
       "      <td>46.979472</td>\n",
       "      <td>47.009965</td>\n",
       "      <td>1.000000</td>\n",
       "      <td>50.029102</td>\n",
       "    </tr>\n",
       "    <tr>\n",
       "      <th>185612</th>\n",
       "      <td>2.00</td>\n",
       "      <td>24.20</td>\n",
       "      <td>195349</td>\n",
       "      <td>2</td>\n",
       "      <td>21</td>\n",
       "      <td>3.0</td>\n",
       "      <td>1540</td>\n",
       "      <td>0.0</td>\n",
       "      <td>3</td>\n",
       "      <td>328.264040</td>\n",
       "      <td>505526.0</td>\n",
       "      <td>1540.0</td>\n",
       "      <td>0.236321</td>\n",
       "      <td>0.000000</td>\n",
       "      <td>19.605427</td>\n",
       "      <td>19.635797</td>\n",
       "      <td>1.000000</td>\n",
       "      <td>50.018467</td>\n",
       "    </tr>\n",
       "    <tr>\n",
       "      <th>202773</th>\n",
       "      <td>24.13</td>\n",
       "      <td>13.00</td>\n",
       "      <td>68748</td>\n",
       "      <td>24</td>\n",
       "      <td>23</td>\n",
       "      <td>0.0</td>\n",
       "      <td>55</td>\n",
       "      <td>0.0</td>\n",
       "      <td>14</td>\n",
       "      <td>328.460278</td>\n",
       "      <td>18065.3</td>\n",
       "      <td>55.0</td>\n",
       "      <td>0.008446</td>\n",
       "      <td>0.000000</td>\n",
       "      <td>7.681331</td>\n",
       "      <td>7.711341</td>\n",
       "      <td>1.030032</td>\n",
       "      <td>50.055747</td>\n",
       "    </tr>\n",
       "    <tr>\n",
       "      <th>422081</th>\n",
       "      <td>4.00</td>\n",
       "      <td>24.40</td>\n",
       "      <td>72956</td>\n",
       "      <td>4</td>\n",
       "      <td>21</td>\n",
       "      <td>3.0</td>\n",
       "      <td>1540</td>\n",
       "      <td>0.0</td>\n",
       "      <td>5</td>\n",
       "      <td>328.217832</td>\n",
       "      <td>505455.0</td>\n",
       "      <td>1540.0</td>\n",
       "      <td>0.236321</td>\n",
       "      <td>0.000000</td>\n",
       "      <td>8.079406</td>\n",
       "      <td>8.109776</td>\n",
       "      <td>1.000000</td>\n",
       "      <td>50.025368</td>\n",
       "    </tr>\n",
       "  </tbody>\n",
       "</table>\n",
       "<p>3000 rows × 18 columns</p>\n",
       "</div>"
      ],
      "text/plain": [
       "        SRC_ADD  DES_ADD  PKT_ID  FROM_NODE  TO_NODE  PKT_TYPE  PKT_SIZE  \\\n",
       "758701    12.20    24.54   21921         23       24       1.0      1500   \n",
       "5282      12.10    24.32  592525         22       23       1.0      1000   \n",
       "269110     5.00    24.50  156294          5       21       3.0      1540   \n",
       "652271    19.10    24.39  585756         23       24       1.0      1000   \n",
       "439803    24.10    10.00  364307         24       23       0.0        55   \n",
       "...         ...      ...     ...        ...      ...       ...       ...   \n",
       "441129     6.10    24.26  586343          6       21       1.0      1000   \n",
       "53863      6.00    24.60  539099         21       23       3.0      1540   \n",
       "185612     2.00    24.20  195349          2       21       3.0      1540   \n",
       "202773    24.13    13.00   68748         24       23       0.0        55   \n",
       "422081     4.00    24.40   72956          4       21       3.0      1540   \n",
       "\n",
       "        FLAGS  FID    PKT_RATE  BYTE_RATE  PKT_AVG_SIZE  UTILIZATION  \\\n",
       "758701    0.0   33  962.684973  1444030.0        1500.0     0.123811   \n",
       "5282      0.0   33  124.943426   124943.0        1000.0     0.059605   \n",
       "269110    0.0    6  328.204637   505434.0        1540.0     0.236321   \n",
       "652271    0.0   40  124.940628   124941.0        1000.0     0.059605   \n",
       "439803    0.0   11  328.561918    18070.9          55.0     0.008446   \n",
       "...       ...  ...         ...        ...           ...          ...   \n",
       "441129    0.0   27  124.942027   124942.0        1000.0     0.059605   \n",
       "53863     0.0    7  328.192835   505416.0        1540.0     0.236321   \n",
       "185612    0.0    3  328.264040   505526.0        1540.0     0.236321   \n",
       "202773    0.0   14  328.460278    18065.3          55.0     0.008446   \n",
       "422081    0.0    5  328.217832   505455.0        1540.0     0.236321   \n",
       "\n",
       "        PKT_DELAY  PKT_SEND_TIME  PKT_RESEVED_TIME  FIRST_PKT_SENT  \\\n",
       "758701   0.033071      21.420143         21.453214        1.000000   \n",
       "5282     0.000400      55.512000         55.542640       25.000000   \n",
       "269110   0.000000      15.929028         15.959397        1.000000   \n",
       "652271   0.001520      52.816000         52.847760       25.000000   \n",
       "439803   0.000000      33.572864         33.602874        1.030013   \n",
       "...           ...            ...               ...             ...   \n",
       "441129   0.000960      53.056000         53.087200       25.000000   \n",
       "53863    0.000124      46.979472         47.009965        1.000000   \n",
       "185612   0.000000      19.605427         19.635797        1.000000   \n",
       "202773   0.000000       7.681331          7.711341        1.030032   \n",
       "422081   0.000000       8.079406          8.109776        1.000000   \n",
       "\n",
       "        LAST_PKT_RESEVED  \n",
       "758701          9.990480  \n",
       "5282           75.022640  \n",
       "269110         50.027339  \n",
       "652271         75.023760  \n",
       "439803         50.040562  \n",
       "...                  ...  \n",
       "441129         75.023200  \n",
       "53863          50.029102  \n",
       "185612         50.018467  \n",
       "202773         50.055747  \n",
       "422081         50.025368  \n",
       "\n",
       "[3000 rows x 18 columns]"
      ]
     },
     "execution_count": 154,
     "metadata": {},
     "output_type": "execute_result"
    }
   ],
   "source": [
    "X1=fdata.iloc[0:26]\n",
    "X1=fdata.drop(['PKT_CLASS'],axis=1)\n",
    "X1"
   ]
  },
  {
   "cell_type": "code",
   "execution_count": 155,
   "metadata": {},
   "outputs": [
    {
     "data": {
      "text/plain": [
       "758701    4.0\n",
       "5282      1.0\n",
       "269110    1.0\n",
       "652271    1.0\n",
       "439803    1.0\n",
       "         ... \n",
       "441129    1.0\n",
       "53863     1.0\n",
       "185612    1.0\n",
       "202773    1.0\n",
       "422081    1.0\n",
       "Name: PKT_CLASS, Length: 3000, dtype: float64"
      ]
     },
     "execution_count": 155,
     "metadata": {},
     "output_type": "execute_result"
    }
   ],
   "source": [
    "Y1=fdata['PKT_CLASS']\n",
    "Y1"
   ]
  },
  {
   "cell_type": "code",
   "execution_count": 156,
   "metadata": {},
   "outputs": [],
   "source": [
    "from sklearn.model_selection import train_test_split\n",
    "X1_train,X1_test,Y1_train,Y1_test =train_test_split(X1,Y1,stratify=Y,test_size=0.20,random_state=3)"
   ]
  },
  {
   "cell_type": "code",
   "execution_count": 157,
   "metadata": {
    "scrolled": true
   },
   "outputs": [
    {
     "name": "stdout",
     "output_type": "stream",
     "text": [
      "(2400, 18)\n",
      "(2400,)\n",
      "(600, 18)\n",
      "(600,)\n"
     ]
    }
   ],
   "source": [
    "print(X1_train.shape)\n",
    "print(Y1_train.shape)\n",
    "print(X1_test.shape)\n",
    "print(Y1_test.shape)"
   ]
  },
  {
   "cell_type": "code",
   "execution_count": 158,
   "metadata": {},
   "outputs": [],
   "source": [
    "from sklearn import tree\n",
    "clf_2 = tree.DecisionTreeClassifier(min_samples_split=2)\n",
    "clf_2.fit(X1_train,Y1_train)\n",
    "pred_2 = clf_2.predict(X1_test)"
   ]
  },
  {
   "cell_type": "code",
   "execution_count": 159,
   "metadata": {},
   "outputs": [
    {
     "name": "stdout",
     "output_type": "stream",
     "text": [
      "[1. 1. 1. 1. 1. 1. 1. 1. 1. 1. 1. 1. 1. 1. 1. 1. 1. 1. 1. 1. 4. 1. 1. 1.\n",
      " 1. 1. 1. 1. 1. 4. 1. 1. 1. 3. 1. 1. 1. 1. 1. 1. 1. 1. 1. 1. 1. 1. 1. 1.\n",
      " 1. 1. 1. 1. 2. 1. 1. 1. 1. 1. 1. 1. 1. 4. 1. 1. 1. 1. 1. 1. 1. 1. 1. 1.\n",
      " 1. 1. 1. 1. 1. 1. 1. 1. 1. 1. 4. 1. 1. 1. 1. 1. 1. 4. 1. 1. 1. 1. 1. 1.\n",
      " 1. 1. 1. 1. 4. 1. 1. 1. 4. 1. 1. 1. 1. 1. 1. 4. 1. 1. 1. 1. 1. 1. 1. 1.\n",
      " 1. 1. 1. 1. 1. 1. 1. 1. 1. 1. 1. 1. 1. 1. 1. 1. 1. 1. 1. 1. 1. 1. 3. 1.\n",
      " 1. 3. 1. 1. 4. 1. 1. 1. 1. 1. 1. 1. 1. 1. 1. 1. 1. 1. 1. 1. 4. 4. 1. 3.\n",
      " 1. 1. 1. 1. 1. 1. 1. 4. 1. 1. 1. 1. 4. 1. 1. 1. 1. 4. 1. 1. 4. 1. 1. 1.\n",
      " 1. 1. 1. 1. 1. 1. 1. 1. 1. 1. 1. 1. 1. 1. 1. 1. 1. 1. 1. 1. 1. 1. 1. 1.\n",
      " 1. 4. 1. 1. 1. 1. 1. 1. 1. 1. 1. 1. 1. 1. 4. 1. 1. 1. 1. 4. 1. 1. 1. 1.\n",
      " 1. 1. 1. 1. 1. 1. 1. 1. 1. 1. 1. 1. 4. 1. 1. 1. 1. 1. 1. 1. 1. 1. 1. 1.\n",
      " 1. 1. 1. 1. 1. 1. 4. 1. 1. 1. 1. 1. 1. 1. 1. 1. 1. 1. 1. 1. 1. 1. 1. 1.\n",
      " 1. 1. 4. 1. 1. 1. 1. 1. 1. 1. 1. 1. 4. 1. 1. 1. 1. 1. 1. 1. 1. 1. 1. 1.\n",
      " 1. 1. 1. 1. 1. 4. 1. 1. 1. 1. 1. 4. 1. 1. 1. 1. 1. 1. 1. 1. 1. 1. 1. 1.\n",
      " 4. 1. 1. 1. 1. 1. 1. 1. 1. 1. 1. 1. 1. 1. 1. 1. 1. 1. 1. 1. 1. 1. 1. 1.\n",
      " 1. 1. 1. 1. 1. 1. 1. 1. 1. 1. 1. 1. 1. 4. 1. 1. 4. 1. 1. 1. 1. 1. 4. 1.\n",
      " 4. 1. 1. 1. 1. 4. 1. 1. 4. 1. 1. 4. 1. 1. 1. 1. 1. 1. 1. 1. 4. 1. 4. 4.\n",
      " 1. 1. 1. 4. 1. 1. 1. 1. 1. 1. 1. 1. 1. 1. 1. 1. 1. 1. 1. 1. 1. 4. 1. 1.\n",
      " 1. 1. 1. 1. 4. 1. 1. 1. 1. 1. 1. 1. 4. 1. 1. 1. 4. 4. 1. 1. 1. 1. 1. 1.\n",
      " 4. 1. 1. 1. 4. 1. 1. 1. 1. 1. 1. 1. 1. 1. 1. 1. 1. 1. 1. 1. 1. 1. 1. 1.\n",
      " 1. 1. 1. 1. 1. 1. 1. 4. 1. 1. 1. 1. 1. 1. 1. 1. 1. 1. 1. 1. 1. 1. 1. 1.\n",
      " 1. 1. 1. 1. 1. 1. 1. 4. 1. 1. 1. 1. 1. 1. 1. 1. 4. 1. 1. 1. 1. 4. 4. 1.\n",
      " 1. 1. 1. 1. 1. 1. 1. 1. 1. 1. 1. 1. 1. 1. 1. 1. 1. 1. 1. 1. 1. 1. 1. 1.\n",
      " 1. 1. 1. 1. 4. 1. 4. 1. 1. 1. 1. 1. 1. 4. 1. 1. 1. 1. 1. 1. 1. 4. 1. 1.\n",
      " 1. 1. 1. 1. 1. 1. 1. 1. 1. 1. 4. 1. 1. 1. 1. 1. 1. 1. 1. 1. 1. 1. 1. 1.]\n"
     ]
    }
   ],
   "source": [
    "print(pred_2)"
   ]
  },
  {
   "cell_type": "code",
   "execution_count": 160,
   "metadata": {},
   "outputs": [
    {
     "data": {
      "text/plain": [
       "array([1., 1., 1., ..., 1., 1., 1.])"
      ]
     },
     "execution_count": 160,
     "metadata": {},
     "output_type": "execute_result"
    }
   ],
   "source": [
    "pred_train = clf_2.predict(X1_train)\n",
    "pred_train"
   ]
  },
  {
   "cell_type": "code",
   "execution_count": 161,
   "metadata": {},
   "outputs": [
    {
     "name": "stdout",
     "output_type": "stream",
     "text": [
      "Test Data :  0.98\n",
      "Train Data :  1.0\n"
     ]
    }
   ],
   "source": [
    "print(\"Test Data : \",accuracy_score(Y1_test,pred_2))\n",
    "print(\"Train Data : \",accuracy_score(Y1_train,pred_train))"
   ]
  },
  {
   "cell_type": "code",
   "execution_count": null,
   "metadata": {},
   "outputs": [],
   "source": []
  },
  {
   "cell_type": "code",
   "execution_count": null,
   "metadata": {},
   "outputs": [],
   "source": []
  },
  {
   "cell_type": "code",
   "execution_count": null,
   "metadata": {},
   "outputs": [],
   "source": []
  },
  {
   "cell_type": "code",
   "execution_count": 162,
   "metadata": {},
   "outputs": [],
   "source": [
    "from sklearn.neighbors import KNeighborsClassifier\n",
    "knn1 = KNeighborsClassifier(n_neighbors = 5).fit(X1_train, Y1_train)\n",
    "knn_pred =knn1.predict(X1_test)"
   ]
  },
  {
   "cell_type": "code",
   "execution_count": 163,
   "metadata": {},
   "outputs": [
    {
     "name": "stdout",
     "output_type": "stream",
     "text": [
      "[1. 1. 1. 1. 1. 1. 1. 1. 1. 1. 1. 1. 1. 1. 1. 1. 1. 1. 1. 1. 4. 1. 1. 1.\n",
      " 1. 1. 1. 1. 1. 4. 1. 1. 1. 1. 1. 1. 1. 1. 1. 1. 1. 1. 1. 1. 1. 1. 1. 1.\n",
      " 1. 1. 1. 1. 2. 1. 1. 1. 1. 1. 1. 1. 1. 4. 1. 1. 1. 1. 1. 1. 1. 1. 1. 1.\n",
      " 1. 1. 1. 1. 1. 1. 1. 1. 1. 1. 4. 1. 1. 1. 1. 1. 1. 4. 1. 1. 1. 1. 1. 1.\n",
      " 1. 1. 1. 1. 4. 1. 1. 1. 4. 1. 1. 1. 1. 1. 1. 4. 1. 1. 1. 1. 1. 1. 1. 1.\n",
      " 1. 1. 1. 1. 1. 1. 1. 1. 1. 1. 1. 1. 1. 1. 1. 1. 1. 1. 1. 1. 1. 1. 1. 1.\n",
      " 1. 1. 1. 1. 4. 1. 1. 1. 1. 1. 1. 1. 1. 1. 1. 1. 1. 1. 1. 1. 4. 4. 1. 1.\n",
      " 1. 1. 1. 1. 1. 1. 1. 4. 1. 1. 1. 1. 4. 1. 1. 1. 1. 4. 1. 1. 4. 1. 1. 1.\n",
      " 1. 1. 1. 1. 1. 1. 1. 1. 1. 1. 1. 1. 1. 1. 1. 1. 1. 1. 1. 1. 1. 1. 1. 1.\n",
      " 1. 4. 1. 1. 1. 1. 1. 1. 1. 1. 1. 1. 1. 1. 4. 1. 1. 1. 1. 4. 1. 1. 1. 1.\n",
      " 1. 1. 1. 1. 1. 1. 1. 1. 1. 1. 1. 1. 4. 1. 1. 1. 1. 1. 1. 1. 1. 1. 1. 1.\n",
      " 1. 1. 1. 1. 1. 1. 4. 1. 1. 1. 1. 1. 1. 1. 1. 1. 1. 1. 1. 1. 1. 1. 1. 1.\n",
      " 1. 1. 4. 1. 1. 1. 1. 1. 1. 1. 1. 1. 4. 1. 1. 1. 1. 1. 1. 1. 1. 1. 1. 1.\n",
      " 1. 1. 1. 1. 1. 4. 1. 1. 1. 1. 1. 4. 1. 1. 1. 1. 1. 1. 1. 1. 1. 1. 1. 1.\n",
      " 4. 1. 1. 1. 1. 1. 1. 1. 1. 1. 1. 1. 1. 1. 1. 1. 1. 1. 1. 1. 1. 1. 1. 1.\n",
      " 1. 1. 1. 1. 1. 1. 1. 1. 1. 1. 1. 1. 1. 4. 1. 1. 4. 1. 1. 1. 1. 1. 4. 1.\n",
      " 4. 1. 1. 1. 1. 4. 1. 1. 4. 1. 1. 4. 1. 1. 1. 1. 1. 1. 1. 1. 4. 1. 4. 4.\n",
      " 1. 1. 1. 4. 1. 1. 1. 1. 1. 1. 1. 1. 1. 1. 1. 1. 1. 1. 1. 1. 1. 4. 1. 1.\n",
      " 1. 1. 1. 1. 4. 1. 1. 1. 1. 1. 1. 1. 4. 1. 1. 1. 4. 4. 1. 1. 1. 1. 1. 1.\n",
      " 4. 1. 1. 1. 4. 1. 1. 1. 1. 1. 1. 1. 1. 1. 1. 1. 1. 1. 1. 1. 1. 1. 1. 1.\n",
      " 1. 1. 1. 1. 1. 1. 1. 4. 1. 1. 1. 1. 1. 1. 1. 1. 1. 1. 1. 1. 1. 1. 1. 1.\n",
      " 1. 1. 1. 1. 1. 1. 1. 4. 1. 1. 1. 1. 1. 1. 1. 1. 4. 1. 1. 1. 1. 4. 4. 1.\n",
      " 1. 1. 1. 1. 1. 1. 1. 1. 1. 1. 1. 1. 1. 1. 1. 1. 1. 1. 1. 1. 1. 1. 1. 1.\n",
      " 1. 1. 1. 1. 4. 1. 4. 1. 1. 1. 1. 1. 1. 4. 1. 1. 1. 1. 1. 1. 1. 4. 1. 1.\n",
      " 1. 1. 1. 1. 1. 1. 1. 1. 1. 1. 4. 1. 1. 1. 1. 1. 1. 1. 1. 1. 1. 1. 1. 1.]\n"
     ]
    }
   ],
   "source": [
    "print(knn_pred)"
   ]
  },
  {
   "cell_type": "code",
   "execution_count": 164,
   "metadata": {},
   "outputs": [
    {
     "data": {
      "text/plain": [
       "array([1., 1., 1., ..., 1., 1., 1.])"
      ]
     },
     "execution_count": 164,
     "metadata": {},
     "output_type": "execute_result"
    }
   ],
   "source": [
    "predi_train = knn1.predict(X1_train)\n",
    "predi_train"
   ]
  },
  {
   "cell_type": "code",
   "execution_count": 165,
   "metadata": {
    "scrolled": true
   },
   "outputs": [
    {
     "name": "stdout",
     "output_type": "stream",
     "text": [
      "Test Data :  0.985\n",
      "Train Data :  0.9908333333333333\n"
     ]
    }
   ],
   "source": [
    "from sklearn.metrics import accuracy_score\n",
    "print(\"Test Data : \",accuracy_score(Y1_test,knn_pred))\n",
    "print(\"Train Data : \",accuracy_score(Y1_train,predi_train))"
   ]
  },
  {
   "cell_type": "code",
   "execution_count": null,
   "metadata": {},
   "outputs": [],
   "source": []
  },
  {
   "cell_type": "code",
   "execution_count": null,
   "metadata": {},
   "outputs": [],
   "source": []
  },
  {
   "cell_type": "code",
   "execution_count": null,
   "metadata": {},
   "outputs": [],
   "source": []
  },
  {
   "cell_type": "code",
   "execution_count": null,
   "metadata": {},
   "outputs": [],
   "source": []
  },
  {
   "cell_type": "code",
   "execution_count": null,
   "metadata": {},
   "outputs": [],
   "source": []
  },
  {
   "cell_type": "code",
   "execution_count": null,
   "metadata": {},
   "outputs": [],
   "source": []
  },
  {
   "cell_type": "code",
   "execution_count": null,
   "metadata": {},
   "outputs": [],
   "source": []
  },
  {
   "cell_type": "code",
   "execution_count": null,
   "metadata": {},
   "outputs": [],
   "source": []
  },
  {
   "cell_type": "code",
   "execution_count": null,
   "metadata": {},
   "outputs": [],
   "source": []
  },
  {
   "cell_type": "code",
   "execution_count": null,
   "metadata": {},
   "outputs": [],
   "source": []
  },
  {
   "cell_type": "code",
   "execution_count": null,
   "metadata": {},
   "outputs": [],
   "source": []
  },
  {
   "cell_type": "code",
   "execution_count": null,
   "metadata": {},
   "outputs": [],
   "source": []
  },
  {
   "cell_type": "code",
   "execution_count": null,
   "metadata": {},
   "outputs": [],
   "source": []
  },
  {
   "cell_type": "code",
   "execution_count": 167,
   "metadata": {},
   "outputs": [
    {
     "ename": "ValueError",
     "evalue": "Input contains NaN",
     "output_type": "error",
     "traceback": [
      "\u001b[1;31m---------------------------------------------------------------------------\u001b[0m",
      "\u001b[1;31mValueError\u001b[0m                                Traceback (most recent call last)",
      "\u001b[1;32m<ipython-input-167-82c787e00dd4>\u001b[0m in \u001b[0;36m<module>\u001b[1;34m\u001b[0m\n\u001b[0;32m      9\u001b[0m \u001b[0my1\u001b[0m\u001b[1;33m=\u001b[0m\u001b[0mdata\u001b[0m\u001b[1;33m[\u001b[0m\u001b[1;34m'PKT_CLASS'\u001b[0m\u001b[1;33m]\u001b[0m\u001b[1;33m\u001b[0m\u001b[1;33m\u001b[0m\u001b[0m\n\u001b[0;32m     10\u001b[0m \u001b[1;31m# split into train test sets\u001b[0m\u001b[1;33m\u001b[0m\u001b[1;33m\u001b[0m\u001b[1;33m\u001b[0m\u001b[0m\n\u001b[1;32m---> 11\u001b[1;33m \u001b[0mX1_train\u001b[0m\u001b[1;33m,\u001b[0m\u001b[0mX1_test\u001b[0m\u001b[1;33m,\u001b[0m\u001b[0my1_train\u001b[0m\u001b[1;33m,\u001b[0m\u001b[0my1_test\u001b[0m \u001b[1;33m=\u001b[0m \u001b[0mtrain_test_split\u001b[0m\u001b[1;33m(\u001b[0m\u001b[0mX1\u001b[0m\u001b[1;33m,\u001b[0m\u001b[0my1\u001b[0m\u001b[1;33m,\u001b[0m\u001b[0mstratify\u001b[0m\u001b[1;33m=\u001b[0m\u001b[0my1\u001b[0m\u001b[1;33m,\u001b[0m\u001b[0mtest_size\u001b[0m\u001b[1;33m=\u001b[0m\u001b[1;36m0.20\u001b[0m\u001b[1;33m,\u001b[0m\u001b[0mrandom_state\u001b[0m\u001b[1;33m=\u001b[0m\u001b[1;36m0\u001b[0m\u001b[1;33m)\u001b[0m\u001b[1;33m\u001b[0m\u001b[1;33m\u001b[0m\u001b[0m\n\u001b[0m\u001b[0;32m     12\u001b[0m \u001b[1;31m# define lists to collect scores\u001b[0m\u001b[1;33m\u001b[0m\u001b[1;33m\u001b[0m\u001b[1;33m\u001b[0m\u001b[0m\n\u001b[0;32m     13\u001b[0m \u001b[0mtrain_scores\u001b[0m\u001b[1;33m,\u001b[0m \u001b[0mtest_scores\u001b[0m \u001b[1;33m=\u001b[0m \u001b[0mlist\u001b[0m\u001b[1;33m(\u001b[0m\u001b[1;33m)\u001b[0m\u001b[1;33m,\u001b[0m \u001b[0mlist\u001b[0m\u001b[1;33m(\u001b[0m\u001b[1;33m)\u001b[0m\u001b[1;33m\u001b[0m\u001b[1;33m\u001b[0m\u001b[0m\n",
      "\u001b[1;32m~\\anaconda3\\lib\\site-packages\\sklearn\\model_selection\\_split.py\u001b[0m in \u001b[0;36mtrain_test_split\u001b[1;34m(*arrays, **options)\u001b[0m\n\u001b[0;32m   2150\u001b[0m                      random_state=random_state)\n\u001b[0;32m   2151\u001b[0m \u001b[1;33m\u001b[0m\u001b[0m\n\u001b[1;32m-> 2152\u001b[1;33m         \u001b[0mtrain\u001b[0m\u001b[1;33m,\u001b[0m \u001b[0mtest\u001b[0m \u001b[1;33m=\u001b[0m \u001b[0mnext\u001b[0m\u001b[1;33m(\u001b[0m\u001b[0mcv\u001b[0m\u001b[1;33m.\u001b[0m\u001b[0msplit\u001b[0m\u001b[1;33m(\u001b[0m\u001b[0mX\u001b[0m\u001b[1;33m=\u001b[0m\u001b[0marrays\u001b[0m\u001b[1;33m[\u001b[0m\u001b[1;36m0\u001b[0m\u001b[1;33m]\u001b[0m\u001b[1;33m,\u001b[0m \u001b[0my\u001b[0m\u001b[1;33m=\u001b[0m\u001b[0mstratify\u001b[0m\u001b[1;33m)\u001b[0m\u001b[1;33m)\u001b[0m\u001b[1;33m\u001b[0m\u001b[1;33m\u001b[0m\u001b[0m\n\u001b[0m\u001b[0;32m   2153\u001b[0m \u001b[1;33m\u001b[0m\u001b[0m\n\u001b[0;32m   2154\u001b[0m     return list(chain.from_iterable((_safe_indexing(a, train),\n",
      "\u001b[1;32m~\\anaconda3\\lib\\site-packages\\sklearn\\model_selection\\_split.py\u001b[0m in \u001b[0;36msplit\u001b[1;34m(self, X, y, groups)\u001b[0m\n\u001b[0;32m   1744\u001b[0m         \u001b[0mto\u001b[0m \u001b[0man\u001b[0m \u001b[0minteger\u001b[0m\u001b[1;33m.\u001b[0m\u001b[1;33m\u001b[0m\u001b[1;33m\u001b[0m\u001b[0m\n\u001b[0;32m   1745\u001b[0m         \"\"\"\n\u001b[1;32m-> 1746\u001b[1;33m         \u001b[0my\u001b[0m \u001b[1;33m=\u001b[0m \u001b[0mcheck_array\u001b[0m\u001b[1;33m(\u001b[0m\u001b[0my\u001b[0m\u001b[1;33m,\u001b[0m \u001b[0mensure_2d\u001b[0m\u001b[1;33m=\u001b[0m\u001b[1;32mFalse\u001b[0m\u001b[1;33m,\u001b[0m \u001b[0mdtype\u001b[0m\u001b[1;33m=\u001b[0m\u001b[1;32mNone\u001b[0m\u001b[1;33m)\u001b[0m\u001b[1;33m\u001b[0m\u001b[1;33m\u001b[0m\u001b[0m\n\u001b[0m\u001b[0;32m   1747\u001b[0m         \u001b[1;32mreturn\u001b[0m \u001b[0msuper\u001b[0m\u001b[1;33m(\u001b[0m\u001b[1;33m)\u001b[0m\u001b[1;33m.\u001b[0m\u001b[0msplit\u001b[0m\u001b[1;33m(\u001b[0m\u001b[0mX\u001b[0m\u001b[1;33m,\u001b[0m \u001b[0my\u001b[0m\u001b[1;33m,\u001b[0m \u001b[0mgroups\u001b[0m\u001b[1;33m)\u001b[0m\u001b[1;33m\u001b[0m\u001b[1;33m\u001b[0m\u001b[0m\n\u001b[0;32m   1748\u001b[0m \u001b[1;33m\u001b[0m\u001b[0m\n",
      "\u001b[1;32m~\\anaconda3\\lib\\site-packages\\sklearn\\utils\\validation.py\u001b[0m in \u001b[0;36minner_f\u001b[1;34m(*args, **kwargs)\u001b[0m\n\u001b[0;32m     71\u001b[0m                           FutureWarning)\n\u001b[0;32m     72\u001b[0m         \u001b[0mkwargs\u001b[0m\u001b[1;33m.\u001b[0m\u001b[0mupdate\u001b[0m\u001b[1;33m(\u001b[0m\u001b[1;33m{\u001b[0m\u001b[0mk\u001b[0m\u001b[1;33m:\u001b[0m \u001b[0marg\u001b[0m \u001b[1;32mfor\u001b[0m \u001b[0mk\u001b[0m\u001b[1;33m,\u001b[0m \u001b[0marg\u001b[0m \u001b[1;32min\u001b[0m \u001b[0mzip\u001b[0m\u001b[1;33m(\u001b[0m\u001b[0msig\u001b[0m\u001b[1;33m.\u001b[0m\u001b[0mparameters\u001b[0m\u001b[1;33m,\u001b[0m \u001b[0margs\u001b[0m\u001b[1;33m)\u001b[0m\u001b[1;33m}\u001b[0m\u001b[1;33m)\u001b[0m\u001b[1;33m\u001b[0m\u001b[1;33m\u001b[0m\u001b[0m\n\u001b[1;32m---> 73\u001b[1;33m         \u001b[1;32mreturn\u001b[0m \u001b[0mf\u001b[0m\u001b[1;33m(\u001b[0m\u001b[1;33m**\u001b[0m\u001b[0mkwargs\u001b[0m\u001b[1;33m)\u001b[0m\u001b[1;33m\u001b[0m\u001b[1;33m\u001b[0m\u001b[0m\n\u001b[0m\u001b[0;32m     74\u001b[0m     \u001b[1;32mreturn\u001b[0m \u001b[0minner_f\u001b[0m\u001b[1;33m\u001b[0m\u001b[1;33m\u001b[0m\u001b[0m\n\u001b[0;32m     75\u001b[0m \u001b[1;33m\u001b[0m\u001b[0m\n",
      "\u001b[1;32m~\\anaconda3\\lib\\site-packages\\sklearn\\utils\\validation.py\u001b[0m in \u001b[0;36mcheck_array\u001b[1;34m(array, accept_sparse, accept_large_sparse, dtype, order, copy, force_all_finite, ensure_2d, allow_nd, ensure_min_samples, ensure_min_features, estimator)\u001b[0m\n\u001b[0;32m    643\u001b[0m \u001b[1;33m\u001b[0m\u001b[0m\n\u001b[0;32m    644\u001b[0m         \u001b[1;32mif\u001b[0m \u001b[0mforce_all_finite\u001b[0m\u001b[1;33m:\u001b[0m\u001b[1;33m\u001b[0m\u001b[1;33m\u001b[0m\u001b[0m\n\u001b[1;32m--> 645\u001b[1;33m             _assert_all_finite(array,\n\u001b[0m\u001b[0;32m    646\u001b[0m                                allow_nan=force_all_finite == 'allow-nan')\n\u001b[0;32m    647\u001b[0m \u001b[1;33m\u001b[0m\u001b[0m\n",
      "\u001b[1;32m~\\anaconda3\\lib\\site-packages\\sklearn\\utils\\validation.py\u001b[0m in \u001b[0;36m_assert_all_finite\u001b[1;34m(X, allow_nan, msg_dtype)\u001b[0m\n\u001b[0;32m    103\u001b[0m     \u001b[1;32melif\u001b[0m \u001b[0mX\u001b[0m\u001b[1;33m.\u001b[0m\u001b[0mdtype\u001b[0m \u001b[1;33m==\u001b[0m \u001b[0mnp\u001b[0m\u001b[1;33m.\u001b[0m\u001b[0mdtype\u001b[0m\u001b[1;33m(\u001b[0m\u001b[1;34m'object'\u001b[0m\u001b[1;33m)\u001b[0m \u001b[1;32mand\u001b[0m \u001b[1;32mnot\u001b[0m \u001b[0mallow_nan\u001b[0m\u001b[1;33m:\u001b[0m\u001b[1;33m\u001b[0m\u001b[1;33m\u001b[0m\u001b[0m\n\u001b[0;32m    104\u001b[0m         \u001b[1;32mif\u001b[0m \u001b[0m_object_dtype_isnan\u001b[0m\u001b[1;33m(\u001b[0m\u001b[0mX\u001b[0m\u001b[1;33m)\u001b[0m\u001b[1;33m.\u001b[0m\u001b[0many\u001b[0m\u001b[1;33m(\u001b[0m\u001b[1;33m)\u001b[0m\u001b[1;33m:\u001b[0m\u001b[1;33m\u001b[0m\u001b[1;33m\u001b[0m\u001b[0m\n\u001b[1;32m--> 105\u001b[1;33m             \u001b[1;32mraise\u001b[0m \u001b[0mValueError\u001b[0m\u001b[1;33m(\u001b[0m\u001b[1;34m\"Input contains NaN\"\u001b[0m\u001b[1;33m)\u001b[0m\u001b[1;33m\u001b[0m\u001b[1;33m\u001b[0m\u001b[0m\n\u001b[0m\u001b[0;32m    106\u001b[0m \u001b[1;33m\u001b[0m\u001b[0m\n\u001b[0;32m    107\u001b[0m \u001b[1;33m\u001b[0m\u001b[0m\n",
      "\u001b[1;31mValueError\u001b[0m: Input contains NaN"
     ]
    }
   ],
   "source": [
    "\n",
    "# evaluate decision tree performance on train and test sets with different tree depths\n",
    "from sklearn.datasets import make_classification\n",
    "from sklearn.model_selection import train_test_split\n",
    "from sklearn.metrics import accuracy_score\n",
    "from sklearn.tree import DecisionTreeClassifier\n",
    "from matplotlib import pyplot\n",
    "# create dataset\n",
    "X1=data.drop(['PKT_CLASS'],axis=1)\n",
    "y1=data['PKT_CLASS']\n",
    "# split into train test sets\n",
    "X1_train,X1_test,y1_train,y1_test = train_test_split(X1,y1,stratify=y1,test_size=0.20,random_state=0)\n",
    "# define lists to collect scores\n",
    "train_scores, test_scores = list(), list()\n",
    "# define the tree depths to evaluate\n",
    "values = [i for i in range(1, 21)]\n",
    "# evaluate a decision tree for each depth\n",
    "for i in values:\n",
    "\t# configure the model\n",
    "\tmodel = DecisionTreeClassifier(max_depth=i)\n",
    "\t# fit model on the training dataset\n",
    "\tmodel.fit(X1_train, y1_train)\n",
    "\t# evaluate on the train dataset\n",
    "\ttrain_yhat = model.predict(X1_train)\n",
    "\ttrain_acc = accuracy_score(y1_train, train_yhat)\n",
    "\ttrain_scores.append(train_acc)\n",
    "\t# evaluate on the test dataset\n",
    "\ttest_yhat = model.predict(X1_test)\n",
    "\ttest_acc = accuracy_score(y1_test, test_yhat)\n",
    "\ttest_scores.append(test_acc)\n",
    "\t# summarize progress\n",
    "\tprint('>%d, train: %.3f, test: %.3f' % (i, train_acc, test_acc))\n",
    "# plot of train and test scores vs tree depth\n",
    "pyplot.plot(values, train_scores, '-o', label='Train')\n",
    "pyplot.plot(values, test_scores, '-o', label='Test')\n",
    "pyplot.legend()\n",
    "pyplot.show()"
   ]
  },
  {
   "cell_type": "code",
   "execution_count": null,
   "metadata": {},
   "outputs": [],
   "source": []
  },
  {
   "cell_type": "code",
   "execution_count": null,
   "metadata": {},
   "outputs": [],
   "source": []
  },
  {
   "cell_type": "code",
   "execution_count": null,
   "metadata": {},
   "outputs": [],
   "source": []
  },
  {
   "cell_type": "code",
   "execution_count": null,
   "metadata": {},
   "outputs": [],
   "source": []
  },
  {
   "cell_type": "code",
   "execution_count": null,
   "metadata": {},
   "outputs": [],
   "source": []
  },
  {
   "cell_type": "code",
   "execution_count": null,
   "metadata": {},
   "outputs": [],
   "source": []
  },
  {
   "cell_type": "code",
   "execution_count": null,
   "metadata": {},
   "outputs": [],
   "source": []
  },
  {
   "cell_type": "code",
   "execution_count": null,
   "metadata": {},
   "outputs": [],
   "source": []
  },
  {
   "cell_type": "code",
   "execution_count": null,
   "metadata": {},
   "outputs": [],
   "source": []
  },
  {
   "cell_type": "code",
   "execution_count": null,
   "metadata": {},
   "outputs": [],
   "source": []
  },
  {
   "cell_type": "code",
   "execution_count": null,
   "metadata": {},
   "outputs": [],
   "source": []
  },
  {
   "cell_type": "code",
   "execution_count": null,
   "metadata": {},
   "outputs": [],
   "source": []
  },
  {
   "cell_type": "code",
   "execution_count": null,
   "metadata": {},
   "outputs": [],
   "source": []
  },
  {
   "cell_type": "code",
   "execution_count": null,
   "metadata": {},
   "outputs": [],
   "source": []
  },
  {
   "cell_type": "code",
   "execution_count": null,
   "metadata": {},
   "outputs": [],
   "source": []
  },
  {
   "cell_type": "code",
   "execution_count": null,
   "metadata": {},
   "outputs": [],
   "source": []
  },
  {
   "cell_type": "code",
   "execution_count": null,
   "metadata": {},
   "outputs": [],
   "source": []
  },
  {
   "cell_type": "code",
   "execution_count": null,
   "metadata": {},
   "outputs": [],
   "source": []
  }
 ],
 "metadata": {
  "kernelspec": {
   "display_name": "Python 3",
   "language": "python",
   "name": "python3"
  },
  "language_info": {
   "codemirror_mode": {
    "name": "ipython",
    "version": 3
   },
   "file_extension": ".py",
   "mimetype": "text/x-python",
   "name": "python",
   "nbconvert_exporter": "python",
   "pygments_lexer": "ipython3",
   "version": "3.8.3"
  }
 },
 "nbformat": 4,
 "nbformat_minor": 4
}
